{
  "nbformat": 4,
  "nbformat_minor": 0,
  "metadata": {
    "colab": {
      "name": "가계지출 분석(수정).ipynb",
      "provenance": [],
      "collapsed_sections": [],
      "toc_visible": true
    },
    "kernelspec": {
      "name": "python3",
      "display_name": "Python 3"
    },
    "language_info": {
      "name": "python"
    }
  },
  "cells": [
    {
      "cell_type": "code",
      "source": [
        "!sudo apt-get install -y fonts-nanum\n",
        "!sudo fc-cache -fv\n",
        "!rm ~/.cache/matplotlib -rf"
      ],
      "metadata": {
        "colab": {
          "base_uri": "https://localhost:8080/"
        },
        "id": "U3jCIyrITf4o",
        "outputId": "56abd032-88af-4a41-b7d7-053501889ce0"
      },
      "execution_count": 1,
      "outputs": [
        {
          "output_type": "stream",
          "name": "stdout",
          "text": [
            "Reading package lists... Done\n",
            "Building dependency tree       \n",
            "Reading state information... Done\n",
            "The following package was automatically installed and is no longer required:\n",
            "  libnvidia-common-460\n",
            "Use 'sudo apt autoremove' to remove it.\n",
            "The following NEW packages will be installed:\n",
            "  fonts-nanum\n",
            "0 upgraded, 1 newly installed, 0 to remove and 45 not upgraded.\n",
            "Need to get 9,604 kB of archives.\n",
            "After this operation, 29.5 MB of additional disk space will be used.\n",
            "Get:1 http://archive.ubuntu.com/ubuntu bionic/universe amd64 fonts-nanum all 20170925-1 [9,604 kB]\n",
            "Fetched 9,604 kB in 1s (11.4 MB/s)\n",
            "debconf: unable to initialize frontend: Dialog\n",
            "debconf: (No usable dialog-like program is installed, so the dialog based frontend cannot be used. at /usr/share/perl5/Debconf/FrontEnd/Dialog.pm line 76, <> line 1.)\n",
            "debconf: falling back to frontend: Readline\n",
            "debconf: unable to initialize frontend: Readline\n",
            "debconf: (This frontend requires a controlling tty.)\n",
            "debconf: falling back to frontend: Teletype\n",
            "dpkg-preconfigure: unable to re-open stdin: \n",
            "Selecting previously unselected package fonts-nanum.\n",
            "(Reading database ... 155632 files and directories currently installed.)\n",
            "Preparing to unpack .../fonts-nanum_20170925-1_all.deb ...\n",
            "Unpacking fonts-nanum (20170925-1) ...\n",
            "Setting up fonts-nanum (20170925-1) ...\n",
            "Processing triggers for fontconfig (2.12.6-0ubuntu2) ...\n",
            "/usr/share/fonts: caching, new cache contents: 0 fonts, 1 dirs\n",
            "/usr/share/fonts/truetype: caching, new cache contents: 0 fonts, 3 dirs\n",
            "/usr/share/fonts/truetype/humor-sans: caching, new cache contents: 1 fonts, 0 dirs\n",
            "/usr/share/fonts/truetype/liberation: caching, new cache contents: 16 fonts, 0 dirs\n",
            "/usr/share/fonts/truetype/nanum: caching, new cache contents: 10 fonts, 0 dirs\n",
            "/usr/local/share/fonts: caching, new cache contents: 0 fonts, 0 dirs\n",
            "/root/.local/share/fonts: skipping, no such directory\n",
            "/root/.fonts: skipping, no such directory\n",
            "/var/cache/fontconfig: cleaning cache directory\n",
            "/root/.cache/fontconfig: not cleaning non-existent cache directory\n",
            "/root/.fontconfig: not cleaning non-existent cache directory\n",
            "fc-cache: succeeded\n"
          ]
        }
      ]
    },
    {
      "cell_type": "code",
      "source": [
        "import matplotlib.pyplot as plt\n",
        "\n",
        "plt.rc('font', family='NanumBarunGothic') "
      ],
      "metadata": {
        "id": "9G1YsUZYp5tr"
      },
      "execution_count": 1,
      "outputs": []
    },
    {
      "cell_type": "markdown",
      "source": [
        "# 1) 2018~2022 가구분포"
      ],
      "metadata": {
        "id": "yqXc_vKEPGqf"
      }
    },
    {
      "cell_type": "code",
      "execution_count": 2,
      "metadata": {
        "id": "Sewg-ShsPElT"
      },
      "outputs": [],
      "source": [
        "import pandas as pd\n",
        "import numpy as np\n",
        "import matplotlib.pyplot as plt"
      ]
    },
    {
      "cell_type": "code",
      "source": [
        "df = pd.read_excel('가구분포.xlsx')\n",
        "df1 = df.transpose()\n",
        "df1.columns = ['전체가구 중 근로자가구', '근로자외 가구', '가구원수(명)','가구주연령(세)']\n",
        "df2 = df1.loc[['2018년', '2019년', '2020년', '2021년', '2022년']]\n",
        "df2"
      ],
      "metadata": {
        "colab": {
          "base_uri": "https://localhost:8080/",
          "height": 206
        },
        "id": "7yIEbFCKTQ5Q",
        "outputId": "8997323c-5f5d-42dd-9b77-3b1f9663a544"
      },
      "execution_count": 3,
      "outputs": [
        {
          "output_type": "execute_result",
          "data": {
            "text/plain": [
              "      전체가구 중 근로자가구 근로자외 가구 가구원수(명) 가구주연령(세)\n",
              "2018년        56.16   43.84    2.43    51.83\n",
              "2019년        59.72   40.28    2.41    52.15\n",
              "2020년        57.32   42.68     2.4    52.42\n",
              "2021년        59.52   40.48    2.37    52.66\n",
              "2022년         58.6    41.4    2.33    52.35"
            ],
            "text/html": [
              "\n",
              "  <div id=\"df-d86546d9-fb6f-4330-b05b-0080477c8bca\">\n",
              "    <div class=\"colab-df-container\">\n",
              "      <div>\n",
              "<style scoped>\n",
              "    .dataframe tbody tr th:only-of-type {\n",
              "        vertical-align: middle;\n",
              "    }\n",
              "\n",
              "    .dataframe tbody tr th {\n",
              "        vertical-align: top;\n",
              "    }\n",
              "\n",
              "    .dataframe thead th {\n",
              "        text-align: right;\n",
              "    }\n",
              "</style>\n",
              "<table border=\"1\" class=\"dataframe\">\n",
              "  <thead>\n",
              "    <tr style=\"text-align: right;\">\n",
              "      <th></th>\n",
              "      <th>전체가구 중 근로자가구</th>\n",
              "      <th>근로자외 가구</th>\n",
              "      <th>가구원수(명)</th>\n",
              "      <th>가구주연령(세)</th>\n",
              "    </tr>\n",
              "  </thead>\n",
              "  <tbody>\n",
              "    <tr>\n",
              "      <th>2018년</th>\n",
              "      <td>56.16</td>\n",
              "      <td>43.84</td>\n",
              "      <td>2.43</td>\n",
              "      <td>51.83</td>\n",
              "    </tr>\n",
              "    <tr>\n",
              "      <th>2019년</th>\n",
              "      <td>59.72</td>\n",
              "      <td>40.28</td>\n",
              "      <td>2.41</td>\n",
              "      <td>52.15</td>\n",
              "    </tr>\n",
              "    <tr>\n",
              "      <th>2020년</th>\n",
              "      <td>57.32</td>\n",
              "      <td>42.68</td>\n",
              "      <td>2.4</td>\n",
              "      <td>52.42</td>\n",
              "    </tr>\n",
              "    <tr>\n",
              "      <th>2021년</th>\n",
              "      <td>59.52</td>\n",
              "      <td>40.48</td>\n",
              "      <td>2.37</td>\n",
              "      <td>52.66</td>\n",
              "    </tr>\n",
              "    <tr>\n",
              "      <th>2022년</th>\n",
              "      <td>58.6</td>\n",
              "      <td>41.4</td>\n",
              "      <td>2.33</td>\n",
              "      <td>52.35</td>\n",
              "    </tr>\n",
              "  </tbody>\n",
              "</table>\n",
              "</div>\n",
              "      <button class=\"colab-df-convert\" onclick=\"convertToInteractive('df-d86546d9-fb6f-4330-b05b-0080477c8bca')\"\n",
              "              title=\"Convert this dataframe to an interactive table.\"\n",
              "              style=\"display:none;\">\n",
              "        \n",
              "  <svg xmlns=\"http://www.w3.org/2000/svg\" height=\"24px\"viewBox=\"0 0 24 24\"\n",
              "       width=\"24px\">\n",
              "    <path d=\"M0 0h24v24H0V0z\" fill=\"none\"/>\n",
              "    <path d=\"M18.56 5.44l.94 2.06.94-2.06 2.06-.94-2.06-.94-.94-2.06-.94 2.06-2.06.94zm-11 1L8.5 8.5l.94-2.06 2.06-.94-2.06-.94L8.5 2.5l-.94 2.06-2.06.94zm10 10l.94 2.06.94-2.06 2.06-.94-2.06-.94-.94-2.06-.94 2.06-2.06.94z\"/><path d=\"M17.41 7.96l-1.37-1.37c-.4-.4-.92-.59-1.43-.59-.52 0-1.04.2-1.43.59L10.3 9.45l-7.72 7.72c-.78.78-.78 2.05 0 2.83L4 21.41c.39.39.9.59 1.41.59.51 0 1.02-.2 1.41-.59l7.78-7.78 2.81-2.81c.8-.78.8-2.07 0-2.86zM5.41 20L4 18.59l7.72-7.72 1.47 1.35L5.41 20z\"/>\n",
              "  </svg>\n",
              "      </button>\n",
              "      \n",
              "  <style>\n",
              "    .colab-df-container {\n",
              "      display:flex;\n",
              "      flex-wrap:wrap;\n",
              "      gap: 12px;\n",
              "    }\n",
              "\n",
              "    .colab-df-convert {\n",
              "      background-color: #E8F0FE;\n",
              "      border: none;\n",
              "      border-radius: 50%;\n",
              "      cursor: pointer;\n",
              "      display: none;\n",
              "      fill: #1967D2;\n",
              "      height: 32px;\n",
              "      padding: 0 0 0 0;\n",
              "      width: 32px;\n",
              "    }\n",
              "\n",
              "    .colab-df-convert:hover {\n",
              "      background-color: #E2EBFA;\n",
              "      box-shadow: 0px 1px 2px rgba(60, 64, 67, 0.3), 0px 1px 3px 1px rgba(60, 64, 67, 0.15);\n",
              "      fill: #174EA6;\n",
              "    }\n",
              "\n",
              "    [theme=dark] .colab-df-convert {\n",
              "      background-color: #3B4455;\n",
              "      fill: #D2E3FC;\n",
              "    }\n",
              "\n",
              "    [theme=dark] .colab-df-convert:hover {\n",
              "      background-color: #434B5C;\n",
              "      box-shadow: 0px 1px 3px 1px rgba(0, 0, 0, 0.15);\n",
              "      filter: drop-shadow(0px 1px 2px rgba(0, 0, 0, 0.3));\n",
              "      fill: #FFFFFF;\n",
              "    }\n",
              "  </style>\n",
              "\n",
              "      <script>\n",
              "        const buttonEl =\n",
              "          document.querySelector('#df-d86546d9-fb6f-4330-b05b-0080477c8bca button.colab-df-convert');\n",
              "        buttonEl.style.display =\n",
              "          google.colab.kernel.accessAllowed ? 'block' : 'none';\n",
              "\n",
              "        async function convertToInteractive(key) {\n",
              "          const element = document.querySelector('#df-d86546d9-fb6f-4330-b05b-0080477c8bca');\n",
              "          const dataTable =\n",
              "            await google.colab.kernel.invokeFunction('convertToInteractive',\n",
              "                                                     [key], {});\n",
              "          if (!dataTable) return;\n",
              "\n",
              "          const docLinkHtml = 'Like what you see? Visit the ' +\n",
              "            '<a target=\"_blank\" href=https://colab.research.google.com/notebooks/data_table.ipynb>data table notebook</a>'\n",
              "            + ' to learn more about interactive tables.';\n",
              "          element.innerHTML = '';\n",
              "          dataTable['output_type'] = 'display_data';\n",
              "          await google.colab.output.renderOutput(dataTable, element);\n",
              "          const docLink = document.createElement('div');\n",
              "          docLink.innerHTML = docLinkHtml;\n",
              "          element.appendChild(docLink);\n",
              "        }\n",
              "      </script>\n",
              "    </div>\n",
              "  </div>\n",
              "  "
            ]
          },
          "metadata": {},
          "execution_count": 3
        }
      ]
    },
    {
      "cell_type": "markdown",
      "source": [
        "#1-1 전체가구 중 근로자, 비근로자 비율"
      ],
      "metadata": {
        "id": "IjoUSX-EBKfy"
      }
    },
    {
      "cell_type": "code",
      "source": [
        "ratio = [56.16, 43.84]\n",
        "labels = ['근로자가구','근로자외가구']\n",
        "plt.title(\"2018 가구분포\",fontsize=15)\n",
        "plt.pie(ratio, labels=labels, autopct='%.1f%%')\n",
        "plt.show()"
      ],
      "metadata": {
        "colab": {
          "base_uri": "https://localhost:8080/",
          "height": 266
        },
        "id": "adWPQ1-59GM1",
        "outputId": "e7b6491e-d4f8-4f8f-f630-8fbff266f3b5"
      },
      "execution_count": 4,
      "outputs": [
        {
          "output_type": "display_data",
          "data": {
            "text/plain": [
              "<Figure size 432x288 with 1 Axes>"
            ],
            "image/png": "[encoded data removed]"
          },
          "metadata": {}
        }
      ]
    },
    {
      "cell_type": "code",
      "source": [
        "ratio = [59.72,40.28]\n",
        "labels = ['근로자가구','근로자외가구']\n",
        "plt.title(\"2019 가구분포\",fontsize=15)\n",
        "plt.pie(ratio, labels=labels, autopct='%.1f%%')\n",
        "plt.show()"
      ],
      "metadata": {
        "colab": {
          "base_uri": "https://localhost:8080/",
          "height": 266
        },
        "id": "-_APcLY19WLL",
        "outputId": "fe5811aa-6d78-4bd5-b8b1-b159677a57f0"
      },
      "execution_count": 5,
      "outputs": [
        {
          "output_type": "display_data",
          "data": {
            "text/plain": [
              "<Figure size 432x288 with 1 Axes>"
            ],
            "image/png": "[encoded data removed]"
          },
          "metadata": {}
        }
      ]
    },
    {
      "cell_type": "code",
      "source": [
        "ratio = [57.32,42.68\t]\n",
        "labels = ['근로자가구','근로자외가구']\n",
        "plt.title(\"2020 가구분포\",fontsize=15)\n",
        "plt.pie(ratio, labels=labels, autopct='%.1f%%')\n",
        "plt.show()"
      ],
      "metadata": {
        "colab": {
          "base_uri": "https://localhost:8080/",
          "height": 266
        },
        "id": "SfqY7yq79dMj",
        "outputId": "a161bfb9-7944-42cf-88f9-94cf93efa21c"
      },
      "execution_count": 6,
      "outputs": [
        {
          "output_type": "display_data",
          "data": {
            "text/plain": [
              "<Figure size 432x288 with 1 Axes>"
            ],
            "image/png": "[encoded data removed]"
          },
          "metadata": {}
        }
      ]
    },
    {
      "cell_type": "code",
      "source": [
        "ratio = [59.52,40.48]\n",
        "labels = ['근로자가구','근로자외가구']\n",
        "plt.title(\"2021 가구분포\",fontsize=15)\n",
        "plt.pie(ratio, labels=labels, autopct='%.1f%%')\n",
        "plt.show()"
      ],
      "metadata": {
        "colab": {
          "base_uri": "https://localhost:8080/",
          "height": 266
        },
        "id": "lcRwAfr29h-e",
        "outputId": "dc54deb3-8611-4a79-d129-84d4bc0c235f"
      },
      "execution_count": 7,
      "outputs": [
        {
          "output_type": "display_data",
          "data": {
            "text/plain": [
              "<Figure size 432x288 with 1 Axes>"
            ],
            "image/png": "[encoded data removed]"
          },
          "metadata": {}
        }
      ]
    },
    {
      "cell_type": "code",
      "source": [
        "ratio = [58.6,41.4]\n",
        "labels = ['근로자가구','근로자외가구']\n",
        "plt.title(\"2022 가구분포\",fontsize=15)\n",
        "plt.pie(ratio, labels=labels, autopct='%.1f%%')\n",
        "plt.show()"
      ],
      "metadata": {
        "colab": {
          "base_uri": "https://localhost:8080/",
          "height": 266
        },
        "id": "wIRyoHN79uk7",
        "outputId": "e261fc22-57b1-4819-f0ac-ed04c89e6e5b"
      },
      "execution_count": 8,
      "outputs": [
        {
          "output_type": "display_data",
          "data": {
            "text/plain": [
              "<Figure size 432x288 with 1 Axes>"
            ],
            "image/png": "[encoded data removed]"
          },
          "metadata": {}
        }
      ]
    },
    {
      "cell_type": "markdown",
      "source": [
        "이를 통해 전체가구중 근로자 가구는 2018년에 비해 2022년에 증가하였음을 알 수 있다.\n",
        "2020년에 감소한 부분은 2020년이 국내에 코로나가 첫 도래한 해인만큼 코로나로 인한 실업 증가와도 관련이 있을 것이다. "
      ],
      "metadata": {
        "id": "aC4sdrgp9b9H"
      }
    },
    {
      "cell_type": "markdown",
      "source": [
        "#1-2. 가구별 가구원수, 가구주연령"
      ],
      "metadata": {
        "id": "QCUnk_1wBYDw"
      }
    },
    {
      "cell_type": "code",
      "source": [
        "df1_1 = df.loc[[2,3]]\n",
        "df2 = df1_1.transpose()\n",
        "df2.columns = ['가구원수(명)','가구주연령(세)']\n",
        "df3 = df2.loc[['2018년', '2019년', '2020년', '2021년', '2022년']]\n",
        "df3"
      ],
      "metadata": {
        "colab": {
          "base_uri": "https://localhost:8080/",
          "height": 206
        },
        "id": "hVkLw7Z98iJo",
        "outputId": "28539a1f-9fcf-4b05-ed39-c2cf7667a98a"
      },
      "execution_count": 9,
      "outputs": [
        {
          "output_type": "execute_result",
          "data": {
            "text/plain": [
              "      가구원수(명) 가구주연령(세)\n",
              "2018년    2.43    51.83\n",
              "2019년    2.41    52.15\n",
              "2020년     2.4    52.42\n",
              "2021년    2.37    52.66\n",
              "2022년    2.33    52.35"
            ],
            "text/html": [
              "\n",
              "  <div id=\"df-532f90ae-5199-426f-9466-d358607d2ea9\">\n",
              "    <div class=\"colab-df-container\">\n",
              "      <div>\n",
              "<style scoped>\n",
              "    .dataframe tbody tr th:only-of-type {\n",
              "        vertical-align: middle;\n",
              "    }\n",
              "\n",
              "    .dataframe tbody tr th {\n",
              "        vertical-align: top;\n",
              "    }\n",
              "\n",
              "    .dataframe thead th {\n",
              "        text-align: right;\n",
              "    }\n",
              "</style>\n",
              "<table border=\"1\" class=\"dataframe\">\n",
              "  <thead>\n",
              "    <tr style=\"text-align: right;\">\n",
              "      <th></th>\n",
              "      <th>가구원수(명)</th>\n",
              "      <th>가구주연령(세)</th>\n",
              "    </tr>\n",
              "  </thead>\n",
              "  <tbody>\n",
              "    <tr>\n",
              "      <th>2018년</th>\n",
              "      <td>2.43</td>\n",
              "      <td>51.83</td>\n",
              "    </tr>\n",
              "    <tr>\n",
              "      <th>2019년</th>\n",
              "      <td>2.41</td>\n",
              "      <td>52.15</td>\n",
              "    </tr>\n",
              "    <tr>\n",
              "      <th>2020년</th>\n",
              "      <td>2.4</td>\n",
              "      <td>52.42</td>\n",
              "    </tr>\n",
              "    <tr>\n",
              "      <th>2021년</th>\n",
              "      <td>2.37</td>\n",
              "      <td>52.66</td>\n",
              "    </tr>\n",
              "    <tr>\n",
              "      <th>2022년</th>\n",
              "      <td>2.33</td>\n",
              "      <td>52.35</td>\n",
              "    </tr>\n",
              "  </tbody>\n",
              "</table>\n",
              "</div>\n",
              "      <button class=\"colab-df-convert\" onclick=\"convertToInteractive('df-532f90ae-5199-426f-9466-d358607d2ea9')\"\n",
              "              title=\"Convert this dataframe to an interactive table.\"\n",
              "              style=\"display:none;\">\n",
              "        \n",
              "  <svg xmlns=\"http://www.w3.org/2000/svg\" height=\"24px\"viewBox=\"0 0 24 24\"\n",
              "       width=\"24px\">\n",
              "    <path d=\"M0 0h24v24H0V0z\" fill=\"none\"/>\n",
              "    <path d=\"M18.56 5.44l.94 2.06.94-2.06 2.06-.94-2.06-.94-.94-2.06-.94 2.06-2.06.94zm-11 1L8.5 8.5l.94-2.06 2.06-.94-2.06-.94L8.5 2.5l-.94 2.06-2.06.94zm10 10l.94 2.06.94-2.06 2.06-.94-2.06-.94-.94-2.06-.94 2.06-2.06.94z\"/><path d=\"M17.41 7.96l-1.37-1.37c-.4-.4-.92-.59-1.43-.59-.52 0-1.04.2-1.43.59L10.3 9.45l-7.72 7.72c-.78.78-.78 2.05 0 2.83L4 21.41c.39.39.9.59 1.41.59.51 0 1.02-.2 1.41-.59l7.78-7.78 2.81-2.81c.8-.78.8-2.07 0-2.86zM5.41 20L4 18.59l7.72-7.72 1.47 1.35L5.41 20z\"/>\n",
              "  </svg>\n",
              "      </button>\n",
              "      \n",
              "  <style>\n",
              "    .colab-df-container {\n",
              "      display:flex;\n",
              "      flex-wrap:wrap;\n",
              "      gap: 12px;\n",
              "    }\n",
              "\n",
              "    .colab-df-convert {\n",
              "      background-color: #E8F0FE;\n",
              "      border: none;\n",
              "      border-radius: 50%;\n",
              "      cursor: pointer;\n",
              "      display: none;\n",
              "      fill: #1967D2;\n",
              "      height: 32px;\n",
              "      padding: 0 0 0 0;\n",
              "      width: 32px;\n",
              "    }\n",
              "\n",
              "    .colab-df-convert:hover {\n",
              "      background-color: #E2EBFA;\n",
              "      box-shadow: 0px 1px 2px rgba(60, 64, 67, 0.3), 0px 1px 3px 1px rgba(60, 64, 67, 0.15);\n",
              "      fill: #174EA6;\n",
              "    }\n",
              "\n",
              "    [theme=dark] .colab-df-convert {\n",
              "      background-color: #3B4455;\n",
              "      fill: #D2E3FC;\n",
              "    }\n",
              "\n",
              "    [theme=dark] .colab-df-convert:hover {\n",
              "      background-color: #434B5C;\n",
              "      box-shadow: 0px 1px 3px 1px rgba(0, 0, 0, 0.15);\n",
              "      filter: drop-shadow(0px 1px 2px rgba(0, 0, 0, 0.3));\n",
              "      fill: #FFFFFF;\n",
              "    }\n",
              "  </style>\n",
              "\n",
              "      <script>\n",
              "        const buttonEl =\n",
              "          document.querySelector('#df-532f90ae-5199-426f-9466-d358607d2ea9 button.colab-df-convert');\n",
              "        buttonEl.style.display =\n",
              "          google.colab.kernel.accessAllowed ? 'block' : 'none';\n",
              "\n",
              "        async function convertToInteractive(key) {\n",
              "          const element = document.querySelector('#df-532f90ae-5199-426f-9466-d358607d2ea9');\n",
              "          const dataTable =\n",
              "            await google.colab.kernel.invokeFunction('convertToInteractive',\n",
              "                                                     [key], {});\n",
              "          if (!dataTable) return;\n",
              "\n",
              "          const docLinkHtml = 'Like what you see? Visit the ' +\n",
              "            '<a target=\"_blank\" href=https://colab.research.google.com/notebooks/data_table.ipynb>data table notebook</a>'\n",
              "            + ' to learn more about interactive tables.';\n",
              "          element.innerHTML = '';\n",
              "          dataTable['output_type'] = 'display_data';\n",
              "          await google.colab.output.renderOutput(dataTable, element);\n",
              "          const docLink = document.createElement('div');\n",
              "          docLink.innerHTML = docLinkHtml;\n",
              "          element.appendChild(docLink);\n",
              "        }\n",
              "      </script>\n",
              "    </div>\n",
              "  </div>\n",
              "  "
            ]
          },
          "metadata": {},
          "execution_count": 9
        }
      ]
    },
    {
      "cell_type": "code",
      "source": [
        "df3.plot(marker='o',markersize=6)\n",
        "plt.title(\"가구분포\" , fontsize=20)\n",
        "plt.plot()"
      ],
      "metadata": {
        "colab": {
          "base_uri": "https://localhost:8080/",
          "height": 305
        },
        "id": "sl4RJOuf6wOA",
        "outputId": "13e33899-ac40-4e9f-d6e2-2f90ccc2445a"
      },
      "execution_count": 10,
      "outputs": [
        {
          "output_type": "execute_result",
          "data": {
            "text/plain": [
              "[]"
            ]
          },
          "metadata": {},
          "execution_count": 10
        },
        {
          "output_type": "display_data",
          "data": {
            "text/plain": [
              "<Figure size 432x288 with 1 Axes>"
            ],
            "image/png": "[encoded data removed]"
          },
          "metadata": {
            "needs_background": "light"
          }
        }
      ]
    },
    {
      "cell_type": "markdown",
      "source": [
        "가구원수는 계속해서 줄고 있으며 가구주 연령은 높아지고 있는 것을 통해 저출산 고령화 현상도 알 수 있다. "
      ],
      "metadata": {
        "id": "eWSuXbRsEnlD"
      }
    },
    {
      "cell_type": "markdown",
      "source": [
        "# 2) 2018~2022 가계 지출"
      ],
      "metadata": {
        "id": "CaWP_FGwyiQp"
      }
    },
    {
      "cell_type": "markdown",
      "source": [
        "가계지출은 소비지출과 비소비지출의 합이다. 소비지출에는 식료품·비주류음료, 주류·담배, 의류·신발, 주거·수도·광열, 가정용품·가사서비스, 보건, 교통, 통신, 오락·문화, 교육, 음식·숙박, 기타 상품·서비스 등이 포함된다. 비소비지출에는 조세, 연금, 사회보험료, 이자비용, 가구 간 이전 지출 등이 포함된다. [출처: 통계청]"
      ],
      "metadata": {
        "id": "FyytCbBCErws"
      }
    },
    {
      "cell_type": "code",
      "source": [
        "df = pd.read_excel('가계지출현황.xlsx')\n",
        "df1 = df.transpose()\n",
        "df1\n",
        "df1.columns = ['가계지출', '소비지출', '비소비지출']\n",
        "df2 = df1.loc[['2018년', '2019년', '2020년', '2021년', '2022년']]\n",
        "df2"
      ],
      "metadata": {
        "colab": {
          "base_uri": "https://localhost:8080/",
          "height": 206
        },
        "id": "Q7PBIglSx3wj",
        "outputId": "ab30ecbc-7d9e-46f5-9df5-57ca2050f337"
      },
      "execution_count": 11,
      "outputs": [
        {
          "output_type": "execute_result",
          "data": {
            "text/plain": [
              "          가계지출     소비지출   비소비지출\n",
              "2018년  3326764  2537641  789123\n",
              "2019년  3191378  2357094  834284\n",
              "2020년  3181429  2385004  796425\n",
              "2021년  3308279  2475079  833200\n",
              "2022년  3495914  2531308  964606"
            ],
            "text/html": [
              "\n",
              "  <div id=\"df-22b0ba3d-88fa-4a8e-8e5a-4ce2c18e9799\">\n",
              "    <div class=\"colab-df-container\">\n",
              "      <div>\n",
              "<style scoped>\n",
              "    .dataframe tbody tr th:only-of-type {\n",
              "        vertical-align: middle;\n",
              "    }\n",
              "\n",
              "    .dataframe tbody tr th {\n",
              "        vertical-align: top;\n",
              "    }\n",
              "\n",
              "    .dataframe thead th {\n",
              "        text-align: right;\n",
              "    }\n",
              "</style>\n",
              "<table border=\"1\" class=\"dataframe\">\n",
              "  <thead>\n",
              "    <tr style=\"text-align: right;\">\n",
              "      <th></th>\n",
              "      <th>가계지출</th>\n",
              "      <th>소비지출</th>\n",
              "      <th>비소비지출</th>\n",
              "    </tr>\n",
              "  </thead>\n",
              "  <tbody>\n",
              "    <tr>\n",
              "      <th>2018년</th>\n",
              "      <td>3326764</td>\n",
              "      <td>2537641</td>\n",
              "      <td>789123</td>\n",
              "    </tr>\n",
              "    <tr>\n",
              "      <th>2019년</th>\n",
              "      <td>3191378</td>\n",
              "      <td>2357094</td>\n",
              "      <td>834284</td>\n",
              "    </tr>\n",
              "    <tr>\n",
              "      <th>2020년</th>\n",
              "      <td>3181429</td>\n",
              "      <td>2385004</td>\n",
              "      <td>796425</td>\n",
              "    </tr>\n",
              "    <tr>\n",
              "      <th>2021년</th>\n",
              "      <td>3308279</td>\n",
              "      <td>2475079</td>\n",
              "      <td>833200</td>\n",
              "    </tr>\n",
              "    <tr>\n",
              "      <th>2022년</th>\n",
              "      <td>3495914</td>\n",
              "      <td>2531308</td>\n",
              "      <td>964606</td>\n",
              "    </tr>\n",
              "  </tbody>\n",
              "</table>\n",
              "</div>\n",
              "      <button class=\"colab-df-convert\" onclick=\"convertToInteractive('df-22b0ba3d-88fa-4a8e-8e5a-4ce2c18e9799')\"\n",
              "              title=\"Convert this dataframe to an interactive table.\"\n",
              "              style=\"display:none;\">\n",
              "        \n",
              "  <svg xmlns=\"http://www.w3.org/2000/svg\" height=\"24px\"viewBox=\"0 0 24 24\"\n",
              "       width=\"24px\">\n",
              "    <path d=\"M0 0h24v24H0V0z\" fill=\"none\"/>\n",
              "    <path d=\"M18.56 5.44l.94 2.06.94-2.06 2.06-.94-2.06-.94-.94-2.06-.94 2.06-2.06.94zm-11 1L8.5 8.5l.94-2.06 2.06-.94-2.06-.94L8.5 2.5l-.94 2.06-2.06.94zm10 10l.94 2.06.94-2.06 2.06-.94-2.06-.94-.94-2.06-.94 2.06-2.06.94z\"/><path d=\"M17.41 7.96l-1.37-1.37c-.4-.4-.92-.59-1.43-.59-.52 0-1.04.2-1.43.59L10.3 9.45l-7.72 7.72c-.78.78-.78 2.05 0 2.83L4 21.41c.39.39.9.59 1.41.59.51 0 1.02-.2 1.41-.59l7.78-7.78 2.81-2.81c.8-.78.8-2.07 0-2.86zM5.41 20L4 18.59l7.72-7.72 1.47 1.35L5.41 20z\"/>\n",
              "  </svg>\n",
              "      </button>\n",
              "      \n",
              "  <style>\n",
              "    .colab-df-container {\n",
              "      display:flex;\n",
              "      flex-wrap:wrap;\n",
              "      gap: 12px;\n",
              "    }\n",
              "\n",
              "    .colab-df-convert {\n",
              "      background-color: #E8F0FE;\n",
              "      border: none;\n",
              "      border-radius: 50%;\n",
              "      cursor: pointer;\n",
              "      display: none;\n",
              "      fill: #1967D2;\n",
              "      height: 32px;\n",
              "      padding: 0 0 0 0;\n",
              "      width: 32px;\n",
              "    }\n",
              "\n",
              "    .colab-df-convert:hover {\n",
              "      background-color: #E2EBFA;\n",
              "      box-shadow: 0px 1px 2px rgba(60, 64, 67, 0.3), 0px 1px 3px 1px rgba(60, 64, 67, 0.15);\n",
              "      fill: #174EA6;\n",
              "    }\n",
              "\n",
              "    [theme=dark] .colab-df-convert {\n",
              "      background-color: #3B4455;\n",
              "      fill: #D2E3FC;\n",
              "    }\n",
              "\n",
              "    [theme=dark] .colab-df-convert:hover {\n",
              "      background-color: #434B5C;\n",
              "      box-shadow: 0px 1px 3px 1px rgba(0, 0, 0, 0.15);\n",
              "      filter: drop-shadow(0px 1px 2px rgba(0, 0, 0, 0.3));\n",
              "      fill: #FFFFFF;\n",
              "    }\n",
              "  </style>\n",
              "\n",
              "      <script>\n",
              "        const buttonEl =\n",
              "          document.querySelector('#df-22b0ba3d-88fa-4a8e-8e5a-4ce2c18e9799 button.colab-df-convert');\n",
              "        buttonEl.style.display =\n",
              "          google.colab.kernel.accessAllowed ? 'block' : 'none';\n",
              "\n",
              "        async function convertToInteractive(key) {\n",
              "          const element = document.querySelector('#df-22b0ba3d-88fa-4a8e-8e5a-4ce2c18e9799');\n",
              "          const dataTable =\n",
              "            await google.colab.kernel.invokeFunction('convertToInteractive',\n",
              "                                                     [key], {});\n",
              "          if (!dataTable) return;\n",
              "\n",
              "          const docLinkHtml = 'Like what you see? Visit the ' +\n",
              "            '<a target=\"_blank\" href=https://colab.research.google.com/notebooks/data_table.ipynb>data table notebook</a>'\n",
              "            + ' to learn more about interactive tables.';\n",
              "          element.innerHTML = '';\n",
              "          dataTable['output_type'] = 'display_data';\n",
              "          await google.colab.output.renderOutput(dataTable, element);\n",
              "          const docLink = document.createElement('div');\n",
              "          docLink.innerHTML = docLinkHtml;\n",
              "          element.appendChild(docLink);\n",
              "        }\n",
              "      </script>\n",
              "    </div>\n",
              "  </div>\n",
              "  "
            ]
          },
          "metadata": {},
          "execution_count": 11
        }
      ]
    },
    {
      "cell_type": "code",
      "source": [
        "df2.plot(marker='o',markersize=7)\n",
        "plt.title(\"가계지출현황\" , fontsize=20)\n",
        "plt.xlabel('연도',fontsize = 15)\n",
        "plt.ylabel('소비액(단위 백만원)',fontsize=15)\n",
        "plt.plot()"
      ],
      "metadata": {
        "colab": {
          "base_uri": "https://localhost:8080/",
          "height": 325
        },
        "id": "VBtSJ2tp5mzA",
        "outputId": "8bfa335e-4165-4db3-ee3f-44dd5d6ed353"
      },
      "execution_count": 12,
      "outputs": [
        {
          "output_type": "execute_result",
          "data": {
            "text/plain": [
              "[]"
            ]
          },
          "metadata": {},
          "execution_count": 12
        },
        {
          "output_type": "display_data",
          "data": {
            "text/plain": [
              "<Figure size 432x288 with 1 Axes>"
            ],
            "image/png": "[encoded data removed]"
          },
          "metadata": {
            "needs_background": "light"
          }
        }
      ]
    },
    {
      "cell_type": "markdown",
      "source": [
        "가계지출과 소비지출은 2019년부터 2020년간 감소했다가 2021년부터 증가하는 추세를 보이고 있다. 비소비지출 같은 경우 2020년을 제외하고 꾸준히 증가하는 추세를 보이고 있다. 특히 2020년과 2022년 사이에 가계의 씀씀이가 크게 증가한 것을 볼 수 있다. 이는 코로나19 이후 풀린 각종 재난지원금으로 소득이 늘면서 소비 여력이 커졌지만 지출 증가분의 30% 이상은 세금과 사회보험료 등 준조세 증가분인 것으로 집계된 것과 연관하여 생각해볼 수 있다. (출처 https://www.hankyung.com/economy/article/202202246205i)\n"
      ],
      "metadata": {
        "id": "zYAG5PVUEul6"
      }
    },
    {
      "cell_type": "markdown",
      "source": [
        "# 3) 2018~2022 업종별 소비 지출\n"
      ],
      "metadata": {
        "id": "eFNpSI0Ym-qh"
      }
    },
    {
      "cell_type": "code",
      "source": [
        "df = pd.read_excel('업종별 소비지출.xlsx')\n",
        "df = df.iloc[0 : , : ]\n",
        "dfcol = list(df.columns)\n",
        "dfcol[0] = '업종별 소비지출'\n",
        "df.columns = dfcol\n",
        "df.columns = dfcol\n",
        "dft = df.transpose()\n",
        "dft.columns = dft.loc['업종별 소비지출']\n",
        "dft.drop('업종별 소비지출', inplace = True)\n",
        "dft"
      ],
      "metadata": {
        "colab": {
          "base_uri": "https://localhost:8080/",
          "height": 285
        },
        "id": "h_dJPieusDYB",
        "outputId": "d3c784b3-e2bd-4804-d0b1-add34895edcd"
      },
      "execution_count": 13,
      "outputs": [
        {
          "output_type": "execute_result",
          "data": {
            "text/plain": [
              "업종별 소비지출 식료품 · 비주류음료 주류 · 담배 의류 · 신발 주거 · 수도 · 광열 가정용품 · 가사서비스      보건  \\\n",
              "2018년         366672   35028  152206       285461       117115  191120   \n",
              "2019년         308864   35550  144409       265155       118880  197888   \n",
              "2020년         363972   38889  134561       283702       143076  211678   \n",
              "2021년         371261   39512  128920       305945       133004  234101   \n",
              "2022년         387984   36279  112625       347599       106280  230818   \n",
              "\n",
              "업종별 소비지출      교통      통신 오락 · 문화      교육 음식 · 숙박 기타상품 · 서비스  \n",
              "2018년     348808  134107  191772  173372  349699     192282  \n",
              "2019년     265880  122189  178765  165121  343207     211186  \n",
              "2020년     297292  117103  141346  114338  332287     206759  \n",
              "2021년     295996  118830  147101  149886  343397     207128  \n",
              "2022년     278347  121676  143824  229823  333221     202834  "
            ],
            "text/html": [
              "\n",
              "  <div id=\"df-4275d6dc-e047-4aff-b3a6-625dff9bc3e4\">\n",
              "    <div class=\"colab-df-container\">\n",
              "      <div>\n",
              "<style scoped>\n",
              "    .dataframe tbody tr th:only-of-type {\n",
              "        vertical-align: middle;\n",
              "    }\n",
              "\n",
              "    .dataframe tbody tr th {\n",
              "        vertical-align: top;\n",
              "    }\n",
              "\n",
              "    .dataframe thead th {\n",
              "        text-align: right;\n",
              "    }\n",
              "</style>\n",
              "<table border=\"1\" class=\"dataframe\">\n",
              "  <thead>\n",
              "    <tr style=\"text-align: right;\">\n",
              "      <th>업종별 소비지출</th>\n",
              "      <th>식료품 · 비주류음료</th>\n",
              "      <th>주류 · 담배</th>\n",
              "      <th>의류 · 신발</th>\n",
              "      <th>주거 · 수도 · 광열</th>\n",
              "      <th>가정용품 · 가사서비스</th>\n",
              "      <th>보건</th>\n",
              "      <th>교통</th>\n",
              "      <th>통신</th>\n",
              "      <th>오락 · 문화</th>\n",
              "      <th>교육</th>\n",
              "      <th>음식 · 숙박</th>\n",
              "      <th>기타상품 · 서비스</th>\n",
              "    </tr>\n",
              "  </thead>\n",
              "  <tbody>\n",
              "    <tr>\n",
              "      <th>2018년</th>\n",
              "      <td>366672</td>\n",
              "      <td>35028</td>\n",
              "      <td>152206</td>\n",
              "      <td>285461</td>\n",
              "      <td>117115</td>\n",
              "      <td>191120</td>\n",
              "      <td>348808</td>\n",
              "      <td>134107</td>\n",
              "      <td>191772</td>\n",
              "      <td>173372</td>\n",
              "      <td>349699</td>\n",
              "      <td>192282</td>\n",
              "    </tr>\n",
              "    <tr>\n",
              "      <th>2019년</th>\n",
              "      <td>308864</td>\n",
              "      <td>35550</td>\n",
              "      <td>144409</td>\n",
              "      <td>265155</td>\n",
              "      <td>118880</td>\n",
              "      <td>197888</td>\n",
              "      <td>265880</td>\n",
              "      <td>122189</td>\n",
              "      <td>178765</td>\n",
              "      <td>165121</td>\n",
              "      <td>343207</td>\n",
              "      <td>211186</td>\n",
              "    </tr>\n",
              "    <tr>\n",
              "      <th>2020년</th>\n",
              "      <td>363972</td>\n",
              "      <td>38889</td>\n",
              "      <td>134561</td>\n",
              "      <td>283702</td>\n",
              "      <td>143076</td>\n",
              "      <td>211678</td>\n",
              "      <td>297292</td>\n",
              "      <td>117103</td>\n",
              "      <td>141346</td>\n",
              "      <td>114338</td>\n",
              "      <td>332287</td>\n",
              "      <td>206759</td>\n",
              "    </tr>\n",
              "    <tr>\n",
              "      <th>2021년</th>\n",
              "      <td>371261</td>\n",
              "      <td>39512</td>\n",
              "      <td>128920</td>\n",
              "      <td>305945</td>\n",
              "      <td>133004</td>\n",
              "      <td>234101</td>\n",
              "      <td>295996</td>\n",
              "      <td>118830</td>\n",
              "      <td>147101</td>\n",
              "      <td>149886</td>\n",
              "      <td>343397</td>\n",
              "      <td>207128</td>\n",
              "    </tr>\n",
              "    <tr>\n",
              "      <th>2022년</th>\n",
              "      <td>387984</td>\n",
              "      <td>36279</td>\n",
              "      <td>112625</td>\n",
              "      <td>347599</td>\n",
              "      <td>106280</td>\n",
              "      <td>230818</td>\n",
              "      <td>278347</td>\n",
              "      <td>121676</td>\n",
              "      <td>143824</td>\n",
              "      <td>229823</td>\n",
              "      <td>333221</td>\n",
              "      <td>202834</td>\n",
              "    </tr>\n",
              "  </tbody>\n",
              "</table>\n",
              "</div>\n",
              "      <button class=\"colab-df-convert\" onclick=\"convertToInteractive('df-4275d6dc-e047-4aff-b3a6-625dff9bc3e4')\"\n",
              "              title=\"Convert this dataframe to an interactive table.\"\n",
              "              style=\"display:none;\">\n",
              "        \n",
              "  <svg xmlns=\"http://www.w3.org/2000/svg\" height=\"24px\"viewBox=\"0 0 24 24\"\n",
              "       width=\"24px\">\n",
              "    <path d=\"M0 0h24v24H0V0z\" fill=\"none\"/>\n",
              "    <path d=\"M18.56 5.44l.94 2.06.94-2.06 2.06-.94-2.06-.94-.94-2.06-.94 2.06-2.06.94zm-11 1L8.5 8.5l.94-2.06 2.06-.94-2.06-.94L8.5 2.5l-.94 2.06-2.06.94zm10 10l.94 2.06.94-2.06 2.06-.94-2.06-.94-.94-2.06-.94 2.06-2.06.94z\"/><path d=\"M17.41 7.96l-1.37-1.37c-.4-.4-.92-.59-1.43-.59-.52 0-1.04.2-1.43.59L10.3 9.45l-7.72 7.72c-.78.78-.78 2.05 0 2.83L4 21.41c.39.39.9.59 1.41.59.51 0 1.02-.2 1.41-.59l7.78-7.78 2.81-2.81c.8-.78.8-2.07 0-2.86zM5.41 20L4 18.59l7.72-7.72 1.47 1.35L5.41 20z\"/>\n",
              "  </svg>\n",
              "      </button>\n",
              "      \n",
              "  <style>\n",
              "    .colab-df-container {\n",
              "      display:flex;\n",
              "      flex-wrap:wrap;\n",
              "      gap: 12px;\n",
              "    }\n",
              "\n",
              "    .colab-df-convert {\n",
              "      background-color: #E8F0FE;\n",
              "      border: none;\n",
              "      border-radius: 50%;\n",
              "      cursor: pointer;\n",
              "      display: none;\n",
              "      fill: #1967D2;\n",
              "      height: 32px;\n",
              "      padding: 0 0 0 0;\n",
              "      width: 32px;\n",
              "    }\n",
              "\n",
              "    .colab-df-convert:hover {\n",
              "      background-color: #E2EBFA;\n",
              "      box-shadow: 0px 1px 2px rgba(60, 64, 67, 0.3), 0px 1px 3px 1px rgba(60, 64, 67, 0.15);\n",
              "      fill: #174EA6;\n",
              "    }\n",
              "\n",
              "    [theme=dark] .colab-df-convert {\n",
              "      background-color: #3B4455;\n",
              "      fill: #D2E3FC;\n",
              "    }\n",
              "\n",
              "    [theme=dark] .colab-df-convert:hover {\n",
              "      background-color: #434B5C;\n",
              "      box-shadow: 0px 1px 3px 1px rgba(0, 0, 0, 0.15);\n",
              "      filter: drop-shadow(0px 1px 2px rgba(0, 0, 0, 0.3));\n",
              "      fill: #FFFFFF;\n",
              "    }\n",
              "  </style>\n",
              "\n",
              "      <script>\n",
              "        const buttonEl =\n",
              "          document.querySelector('#df-4275d6dc-e047-4aff-b3a6-625dff9bc3e4 button.colab-df-convert');\n",
              "        buttonEl.style.display =\n",
              "          google.colab.kernel.accessAllowed ? 'block' : 'none';\n",
              "\n",
              "        async function convertToInteractive(key) {\n",
              "          const element = document.querySelector('#df-4275d6dc-e047-4aff-b3a6-625dff9bc3e4');\n",
              "          const dataTable =\n",
              "            await google.colab.kernel.invokeFunction('convertToInteractive',\n",
              "                                                     [key], {});\n",
              "          if (!dataTable) return;\n",
              "\n",
              "          const docLinkHtml = 'Like what you see? Visit the ' +\n",
              "            '<a target=\"_blank\" href=https://colab.research.google.com/notebooks/data_table.ipynb>data table notebook</a>'\n",
              "            + ' to learn more about interactive tables.';\n",
              "          element.innerHTML = '';\n",
              "          dataTable['output_type'] = 'display_data';\n",
              "          await google.colab.output.renderOutput(dataTable, element);\n",
              "          const docLink = document.createElement('div');\n",
              "          docLink.innerHTML = docLinkHtml;\n",
              "          element.appendChild(docLink);\n",
              "        }\n",
              "      </script>\n",
              "    </div>\n",
              "  </div>\n",
              "  "
            ]
          },
          "metadata": {},
          "execution_count": 13
        }
      ]
    },
    {
      "cell_type": "code",
      "source": [
        "plt.rcParams[\"figure.figsize\"] = (15, 10)"
      ],
      "metadata": {
        "id": "EHgOV9_YE_zB"
      },
      "execution_count": 14,
      "outputs": []
    },
    {
      "cell_type": "code",
      "source": [
        "dft.plot(kind = 'bar', legend = 'reverse', stacked = True)"
      ],
      "metadata": {
        "colab": {
          "base_uri": "https://localhost:8080/",
          "height": 642
        },
        "id": "2uXLFVrE8G5c",
        "outputId": "61c8b932-ef63-476d-a9ff-56fa1e1e75aa"
      },
      "execution_count": 15,
      "outputs": [
        {
          "output_type": "execute_result",
          "data": {
            "text/plain": [
              "<matplotlib.axes._subplots.AxesSubplot at 0x7f4bfd0eb690>"
            ]
          },
          "metadata": {},
          "execution_count": 15
        },
        {
          "output_type": "display_data",
          "data": {
            "text/plain": [
              "<Figure size 1080x720 with 1 Axes>"
            ],
            "image/png": "[encoded data removed]"
          },
          "metadata": {
            "needs_background": "light"
          }
        }
      ]
    },
    {
      "cell_type": "code",
      "source": [
        "plt.rcParams[\"figure.figsize\"] = (10, 7)"
      ],
      "metadata": {
        "id": "Of8vyGkZCtdx"
      },
      "execution_count": 16,
      "outputs": []
    },
    {
      "cell_type": "markdown",
      "source": [
        "# 3-1. 소비가 증가한 목록"
      ],
      "metadata": {
        "id": "mpLZDAzKZRGW"
      }
    },
    {
      "cell_type": "code",
      "source": [
        "df1_1 = df.loc[[0,1,4,5,11]]\n",
        "df1_1\n",
        "df2 = df1_1.transpose()\n",
        "df2.columns = ['식료품 · 비주류음료','주류 · 담배',\t'가정용품 · 가사서비스','보건','기타상품 · 서비스']\n",
        "df3 = df2.loc[['2018년', '2019년', '2020년', '2021년', '2022년']]\n",
        "df3"
      ],
      "metadata": {
        "colab": {
          "base_uri": "https://localhost:8080/",
          "height": 206
        },
        "id": "ET3vKwEYcgJg",
        "outputId": "541a0fb6-6527-42d5-e6bc-f2821f86b27a"
      },
      "execution_count": 17,
      "outputs": [
        {
          "output_type": "execute_result",
          "data": {
            "text/plain": [
              "      식료품 · 비주류음료 주류 · 담배 가정용품 · 가사서비스      보건 기타상품 · 서비스\n",
              "2018년      366672   35028       117115  191120     192282\n",
              "2019년      308864   35550       118880  197888     211186\n",
              "2020년      363972   38889       143076  211678     206759\n",
              "2021년      371261   39512       133004  234101     207128\n",
              "2022년      387984   36279       106280  230818     202834"
            ],
            "text/html": [
              "\n",
              "  <div id=\"df-6d010af5-e594-484a-8ab1-06ef21def7ab\">\n",
              "    <div class=\"colab-df-container\">\n",
              "      <div>\n",
              "<style scoped>\n",
              "    .dataframe tbody tr th:only-of-type {\n",
              "        vertical-align: middle;\n",
              "    }\n",
              "\n",
              "    .dataframe tbody tr th {\n",
              "        vertical-align: top;\n",
              "    }\n",
              "\n",
              "    .dataframe thead th {\n",
              "        text-align: right;\n",
              "    }\n",
              "</style>\n",
              "<table border=\"1\" class=\"dataframe\">\n",
              "  <thead>\n",
              "    <tr style=\"text-align: right;\">\n",
              "      <th></th>\n",
              "      <th>식료품 · 비주류음료</th>\n",
              "      <th>주류 · 담배</th>\n",
              "      <th>가정용품 · 가사서비스</th>\n",
              "      <th>보건</th>\n",
              "      <th>기타상품 · 서비스</th>\n",
              "    </tr>\n",
              "  </thead>\n",
              "  <tbody>\n",
              "    <tr>\n",
              "      <th>2018년</th>\n",
              "      <td>366672</td>\n",
              "      <td>35028</td>\n",
              "      <td>117115</td>\n",
              "      <td>191120</td>\n",
              "      <td>192282</td>\n",
              "    </tr>\n",
              "    <tr>\n",
              "      <th>2019년</th>\n",
              "      <td>308864</td>\n",
              "      <td>35550</td>\n",
              "      <td>118880</td>\n",
              "      <td>197888</td>\n",
              "      <td>211186</td>\n",
              "    </tr>\n",
              "    <tr>\n",
              "      <th>2020년</th>\n",
              "      <td>363972</td>\n",
              "      <td>38889</td>\n",
              "      <td>143076</td>\n",
              "      <td>211678</td>\n",
              "      <td>206759</td>\n",
              "    </tr>\n",
              "    <tr>\n",
              "      <th>2021년</th>\n",
              "      <td>371261</td>\n",
              "      <td>39512</td>\n",
              "      <td>133004</td>\n",
              "      <td>234101</td>\n",
              "      <td>207128</td>\n",
              "    </tr>\n",
              "    <tr>\n",
              "      <th>2022년</th>\n",
              "      <td>387984</td>\n",
              "      <td>36279</td>\n",
              "      <td>106280</td>\n",
              "      <td>230818</td>\n",
              "      <td>202834</td>\n",
              "    </tr>\n",
              "  </tbody>\n",
              "</table>\n",
              "</div>\n",
              "      <button class=\"colab-df-convert\" onclick=\"convertToInteractive('df-6d010af5-e594-484a-8ab1-06ef21def7ab')\"\n",
              "              title=\"Convert this dataframe to an interactive table.\"\n",
              "              style=\"display:none;\">\n",
              "        \n",
              "  <svg xmlns=\"http://www.w3.org/2000/svg\" height=\"24px\"viewBox=\"0 0 24 24\"\n",
              "       width=\"24px\">\n",
              "    <path d=\"M0 0h24v24H0V0z\" fill=\"none\"/>\n",
              "    <path d=\"M18.56 5.44l.94 2.06.94-2.06 2.06-.94-2.06-.94-.94-2.06-.94 2.06-2.06.94zm-11 1L8.5 8.5l.94-2.06 2.06-.94-2.06-.94L8.5 2.5l-.94 2.06-2.06.94zm10 10l.94 2.06.94-2.06 2.06-.94-2.06-.94-.94-2.06-.94 2.06-2.06.94z\"/><path d=\"M17.41 7.96l-1.37-1.37c-.4-.4-.92-.59-1.43-.59-.52 0-1.04.2-1.43.59L10.3 9.45l-7.72 7.72c-.78.78-.78 2.05 0 2.83L4 21.41c.39.39.9.59 1.41.59.51 0 1.02-.2 1.41-.59l7.78-7.78 2.81-2.81c.8-.78.8-2.07 0-2.86zM5.41 20L4 18.59l7.72-7.72 1.47 1.35L5.41 20z\"/>\n",
              "  </svg>\n",
              "      </button>\n",
              "      \n",
              "  <style>\n",
              "    .colab-df-container {\n",
              "      display:flex;\n",
              "      flex-wrap:wrap;\n",
              "      gap: 12px;\n",
              "    }\n",
              "\n",
              "    .colab-df-convert {\n",
              "      background-color: #E8F0FE;\n",
              "      border: none;\n",
              "      border-radius: 50%;\n",
              "      cursor: pointer;\n",
              "      display: none;\n",
              "      fill: #1967D2;\n",
              "      height: 32px;\n",
              "      padding: 0 0 0 0;\n",
              "      width: 32px;\n",
              "    }\n",
              "\n",
              "    .colab-df-convert:hover {\n",
              "      background-color: #E2EBFA;\n",
              "      box-shadow: 0px 1px 2px rgba(60, 64, 67, 0.3), 0px 1px 3px 1px rgba(60, 64, 67, 0.15);\n",
              "      fill: #174EA6;\n",
              "    }\n",
              "\n",
              "    [theme=dark] .colab-df-convert {\n",
              "      background-color: #3B4455;\n",
              "      fill: #D2E3FC;\n",
              "    }\n",
              "\n",
              "    [theme=dark] .colab-df-convert:hover {\n",
              "      background-color: #434B5C;\n",
              "      box-shadow: 0px 1px 3px 1px rgba(0, 0, 0, 0.15);\n",
              "      filter: drop-shadow(0px 1px 2px rgba(0, 0, 0, 0.3));\n",
              "      fill: #FFFFFF;\n",
              "    }\n",
              "  </style>\n",
              "\n",
              "      <script>\n",
              "        const buttonEl =\n",
              "          document.querySelector('#df-6d010af5-e594-484a-8ab1-06ef21def7ab button.colab-df-convert');\n",
              "        buttonEl.style.display =\n",
              "          google.colab.kernel.accessAllowed ? 'block' : 'none';\n",
              "\n",
              "        async function convertToInteractive(key) {\n",
              "          const element = document.querySelector('#df-6d010af5-e594-484a-8ab1-06ef21def7ab');\n",
              "          const dataTable =\n",
              "            await google.colab.kernel.invokeFunction('convertToInteractive',\n",
              "                                                     [key], {});\n",
              "          if (!dataTable) return;\n",
              "\n",
              "          const docLinkHtml = 'Like what you see? Visit the ' +\n",
              "            '<a target=\"_blank\" href=https://colab.research.google.com/notebooks/data_table.ipynb>data table notebook</a>'\n",
              "            + ' to learn more about interactive tables.';\n",
              "          element.innerHTML = '';\n",
              "          dataTable['output_type'] = 'display_data';\n",
              "          await google.colab.output.renderOutput(dataTable, element);\n",
              "          const docLink = document.createElement('div');\n",
              "          docLink.innerHTML = docLinkHtml;\n",
              "          element.appendChild(docLink);\n",
              "        }\n",
              "      </script>\n",
              "    </div>\n",
              "  </div>\n",
              "  "
            ]
          },
          "metadata": {},
          "execution_count": 17
        }
      ]
    },
    {
      "cell_type": "code",
      "source": [
        "df3.plot(marker='o',markersize=5)\n",
        "plt.title(\"소비가 증가한 목록\" , fontsize=20)\n",
        "plt.xlabel('연도',fontsize = 13)\n",
        "plt.ylabel('소비액',fontsize=13)\n",
        "plt.plot()"
      ],
      "metadata": {
        "colab": {
          "base_uri": "https://localhost:8080/",
          "height": 486
        },
        "id": "WofKQKNh_9XL",
        "outputId": "0e001f43-9a2c-492b-b091-674aceaf409c"
      },
      "execution_count": 18,
      "outputs": [
        {
          "output_type": "execute_result",
          "data": {
            "text/plain": [
              "[]"
            ]
          },
          "metadata": {},
          "execution_count": 18
        },
        {
          "output_type": "display_data",
          "data": {
            "text/plain": [
              "<Figure size 720x504 with 1 Axes>"
            ],
            "image/png": "[encoded data removed]"
          },
          "metadata": {
            "needs_background": "light"
          }
        }
      ]
    },
    {
      "cell_type": "markdown",
      "source": [
        "2020년 1월 20일, 코로나 바이러스의 국내 첫 확진 사례가 보고된 이후 사회적 거리두기 영향으로 가정에서 보내는 시간이 많아지면서 음식 서비스, 생활용품, 기타상품 및 서비스에 대한 지출이 증가한 것으로 해석된다. "
      ],
      "metadata": {
        "id": "L3PAJpwvFZIM"
      }
    },
    {
      "cell_type": "markdown",
      "source": [
        "# 3-2. 소비가 감소한 목록\n",
        "\n"
      ],
      "metadata": {
        "id": "zYxUNXSZbXVr"
      }
    },
    {
      "cell_type": "code",
      "source": [
        "df1_2 = df.loc[[2,6,7,8]]\n",
        "df1_2\n",
        "df2_2 = df1_2.transpose()\n",
        "df2_2.columns = ['의류 · 신발','교통','통신','오락 · 문화']\n",
        "df3_2 = df2_2.loc[['2018년', '2019년', '2020년', '2021년', '2022년']]\n",
        "df3_2"
      ],
      "metadata": {
        "colab": {
          "base_uri": "https://localhost:8080/",
          "height": 206
        },
        "id": "AlR1PnLBdA9k",
        "outputId": "eded067f-edaa-4334-aa3c-b63335b4eb5b"
      },
      "execution_count": 19,
      "outputs": [
        {
          "output_type": "execute_result",
          "data": {
            "text/plain": [
              "      의류 · 신발      교통      통신 오락 · 문화\n",
              "2018년  152206  348808  134107  191772\n",
              "2019년  144409  265880  122189  178765\n",
              "2020년  134561  297292  117103  141346\n",
              "2021년  128920  295996  118830  147101\n",
              "2022년  112625  278347  121676  143824"
            ],
            "text/html": [
              "\n",
              "  <div id=\"df-061e6546-170b-4d24-a027-046bc58ca217\">\n",
              "    <div class=\"colab-df-container\">\n",
              "      <div>\n",
              "<style scoped>\n",
              "    .dataframe tbody tr th:only-of-type {\n",
              "        vertical-align: middle;\n",
              "    }\n",
              "\n",
              "    .dataframe tbody tr th {\n",
              "        vertical-align: top;\n",
              "    }\n",
              "\n",
              "    .dataframe thead th {\n",
              "        text-align: right;\n",
              "    }\n",
              "</style>\n",
              "<table border=\"1\" class=\"dataframe\">\n",
              "  <thead>\n",
              "    <tr style=\"text-align: right;\">\n",
              "      <th></th>\n",
              "      <th>의류 · 신발</th>\n",
              "      <th>교통</th>\n",
              "      <th>통신</th>\n",
              "      <th>오락 · 문화</th>\n",
              "    </tr>\n",
              "  </thead>\n",
              "  <tbody>\n",
              "    <tr>\n",
              "      <th>2018년</th>\n",
              "      <td>152206</td>\n",
              "      <td>348808</td>\n",
              "      <td>134107</td>\n",
              "      <td>191772</td>\n",
              "    </tr>\n",
              "    <tr>\n",
              "      <th>2019년</th>\n",
              "      <td>144409</td>\n",
              "      <td>265880</td>\n",
              "      <td>122189</td>\n",
              "      <td>178765</td>\n",
              "    </tr>\n",
              "    <tr>\n",
              "      <th>2020년</th>\n",
              "      <td>134561</td>\n",
              "      <td>297292</td>\n",
              "      <td>117103</td>\n",
              "      <td>141346</td>\n",
              "    </tr>\n",
              "    <tr>\n",
              "      <th>2021년</th>\n",
              "      <td>128920</td>\n",
              "      <td>295996</td>\n",
              "      <td>118830</td>\n",
              "      <td>147101</td>\n",
              "    </tr>\n",
              "    <tr>\n",
              "      <th>2022년</th>\n",
              "      <td>112625</td>\n",
              "      <td>278347</td>\n",
              "      <td>121676</td>\n",
              "      <td>143824</td>\n",
              "    </tr>\n",
              "  </tbody>\n",
              "</table>\n",
              "</div>\n",
              "      <button class=\"colab-df-convert\" onclick=\"convertToInteractive('df-061e6546-170b-4d24-a027-046bc58ca217')\"\n",
              "              title=\"Convert this dataframe to an interactive table.\"\n",
              "              style=\"display:none;\">\n",
              "        \n",
              "  <svg xmlns=\"http://www.w3.org/2000/svg\" height=\"24px\"viewBox=\"0 0 24 24\"\n",
              "       width=\"24px\">\n",
              "    <path d=\"M0 0h24v24H0V0z\" fill=\"none\"/>\n",
              "    <path d=\"M18.56 5.44l.94 2.06.94-2.06 2.06-.94-2.06-.94-.94-2.06-.94 2.06-2.06.94zm-11 1L8.5 8.5l.94-2.06 2.06-.94-2.06-.94L8.5 2.5l-.94 2.06-2.06.94zm10 10l.94 2.06.94-2.06 2.06-.94-2.06-.94-.94-2.06-.94 2.06-2.06.94z\"/><path d=\"M17.41 7.96l-1.37-1.37c-.4-.4-.92-.59-1.43-.59-.52 0-1.04.2-1.43.59L10.3 9.45l-7.72 7.72c-.78.78-.78 2.05 0 2.83L4 21.41c.39.39.9.59 1.41.59.51 0 1.02-.2 1.41-.59l7.78-7.78 2.81-2.81c.8-.78.8-2.07 0-2.86zM5.41 20L4 18.59l7.72-7.72 1.47 1.35L5.41 20z\"/>\n",
              "  </svg>\n",
              "      </button>\n",
              "      \n",
              "  <style>\n",
              "    .colab-df-container {\n",
              "      display:flex;\n",
              "      flex-wrap:wrap;\n",
              "      gap: 12px;\n",
              "    }\n",
              "\n",
              "    .colab-df-convert {\n",
              "      background-color: #E8F0FE;\n",
              "      border: none;\n",
              "      border-radius: 50%;\n",
              "      cursor: pointer;\n",
              "      display: none;\n",
              "      fill: #1967D2;\n",
              "      height: 32px;\n",
              "      padding: 0 0 0 0;\n",
              "      width: 32px;\n",
              "    }\n",
              "\n",
              "    .colab-df-convert:hover {\n",
              "      background-color: #E2EBFA;\n",
              "      box-shadow: 0px 1px 2px rgba(60, 64, 67, 0.3), 0px 1px 3px 1px rgba(60, 64, 67, 0.15);\n",
              "      fill: #174EA6;\n",
              "    }\n",
              "\n",
              "    [theme=dark] .colab-df-convert {\n",
              "      background-color: #3B4455;\n",
              "      fill: #D2E3FC;\n",
              "    }\n",
              "\n",
              "    [theme=dark] .colab-df-convert:hover {\n",
              "      background-color: #434B5C;\n",
              "      box-shadow: 0px 1px 3px 1px rgba(0, 0, 0, 0.15);\n",
              "      filter: drop-shadow(0px 1px 2px rgba(0, 0, 0, 0.3));\n",
              "      fill: #FFFFFF;\n",
              "    }\n",
              "  </style>\n",
              "\n",
              "      <script>\n",
              "        const buttonEl =\n",
              "          document.querySelector('#df-061e6546-170b-4d24-a027-046bc58ca217 button.colab-df-convert');\n",
              "        buttonEl.style.display =\n",
              "          google.colab.kernel.accessAllowed ? 'block' : 'none';\n",
              "\n",
              "        async function convertToInteractive(key) {\n",
              "          const element = document.querySelector('#df-061e6546-170b-4d24-a027-046bc58ca217');\n",
              "          const dataTable =\n",
              "            await google.colab.kernel.invokeFunction('convertToInteractive',\n",
              "                                                     [key], {});\n",
              "          if (!dataTable) return;\n",
              "\n",
              "          const docLinkHtml = 'Like what you see? Visit the ' +\n",
              "            '<a target=\"_blank\" href=https://colab.research.google.com/notebooks/data_table.ipynb>data table notebook</a>'\n",
              "            + ' to learn more about interactive tables.';\n",
              "          element.innerHTML = '';\n",
              "          dataTable['output_type'] = 'display_data';\n",
              "          await google.colab.output.renderOutput(dataTable, element);\n",
              "          const docLink = document.createElement('div');\n",
              "          docLink.innerHTML = docLinkHtml;\n",
              "          element.appendChild(docLink);\n",
              "        }\n",
              "      </script>\n",
              "    </div>\n",
              "  </div>\n",
              "  "
            ]
          },
          "metadata": {},
          "execution_count": 19
        }
      ]
    },
    {
      "cell_type": "code",
      "source": [
        "df3_2.plot(marker='o',markersize=5)\n",
        "plt.title(\"소비가 감소한 목록\" , fontsize=20)\n",
        "plt.xlabel('연도',fontsize = 13)\n",
        "plt.ylabel('소비액',fontsize=13)\n",
        "plt.plot()"
      ],
      "metadata": {
        "colab": {
          "base_uri": "https://localhost:8080/",
          "height": 486
        },
        "id": "Pe8jAAAtKYaw",
        "outputId": "c5fc5d1e-5cb3-4ead-bf57-7b6fecc0941d"
      },
      "execution_count": 20,
      "outputs": [
        {
          "output_type": "execute_result",
          "data": {
            "text/plain": [
              "[]"
            ]
          },
          "metadata": {},
          "execution_count": 20
        },
        {
          "output_type": "display_data",
          "data": {
            "text/plain": [
              "<Figure size 720x504 with 1 Axes>"
            ],
            "image/png": "[encoded data removed]"
          },
          "metadata": {
            "needs_background": "light"
          }
        }
      ]
    },
    {
      "cell_type": "markdown",
      "source": [
        "코로나 바이러스로 인한 사회적 거리두기 영향으로 야외 활동을 줄이고 가정에 있는 시간이 늘어나게 되면서 의류 · 신발,\t교통, 통신,오락 · 문화 부분에서의 가계 지출은 줄어든 것으로 보인다."
      ],
      "metadata": {
        "id": "mSY2W5sRIWg5"
      }
    },
    {
      "cell_type": "markdown",
      "source": [
        "#4) 항목별 소비지출 변화"
      ],
      "metadata": {
        "id": "JpzxTxC5GpBJ"
      }
    },
    {
      "cell_type": "markdown",
      "source": [
        "#4-1. 음식 숙박 소비지출 변화"
      ],
      "metadata": {
        "id": "Mw5amRG3Fuio"
      }
    },
    {
      "cell_type": "code",
      "source": [
        "df1_3 = df.loc[[10]]\n",
        "df2_3 = df1_3.transpose()\n",
        "df2_3.columns = ['음식 · 숙박']\n",
        "df3_3 = df2_3.loc[['2018년', '2019년', '2020년', '2021년', '2022년']]\n",
        "df3_3"
      ],
      "metadata": {
        "colab": {
          "base_uri": "https://localhost:8080/",
          "height": 206
        },
        "id": "Gv6QOf1dCG0k",
        "outputId": "ee9686d1-72f6-4924-c9cf-7be965001c60"
      },
      "execution_count": 21,
      "outputs": [
        {
          "output_type": "execute_result",
          "data": {
            "text/plain": [
              "      음식 · 숙박\n",
              "2018년  349699\n",
              "2019년  343207\n",
              "2020년  332287\n",
              "2021년  343397\n",
              "2022년  333221"
            ],
            "text/html": [
              "\n",
              "  <div id=\"df-66fcd1f8-55af-411e-8e90-5794f4f48dc5\">\n",
              "    <div class=\"colab-df-container\">\n",
              "      <div>\n",
              "<style scoped>\n",
              "    .dataframe tbody tr th:only-of-type {\n",
              "        vertical-align: middle;\n",
              "    }\n",
              "\n",
              "    .dataframe tbody tr th {\n",
              "        vertical-align: top;\n",
              "    }\n",
              "\n",
              "    .dataframe thead th {\n",
              "        text-align: right;\n",
              "    }\n",
              "</style>\n",
              "<table border=\"1\" class=\"dataframe\">\n",
              "  <thead>\n",
              "    <tr style=\"text-align: right;\">\n",
              "      <th></th>\n",
              "      <th>음식 · 숙박</th>\n",
              "    </tr>\n",
              "  </thead>\n",
              "  <tbody>\n",
              "    <tr>\n",
              "      <th>2018년</th>\n",
              "      <td>349699</td>\n",
              "    </tr>\n",
              "    <tr>\n",
              "      <th>2019년</th>\n",
              "      <td>343207</td>\n",
              "    </tr>\n",
              "    <tr>\n",
              "      <th>2020년</th>\n",
              "      <td>332287</td>\n",
              "    </tr>\n",
              "    <tr>\n",
              "      <th>2021년</th>\n",
              "      <td>343397</td>\n",
              "    </tr>\n",
              "    <tr>\n",
              "      <th>2022년</th>\n",
              "      <td>333221</td>\n",
              "    </tr>\n",
              "  </tbody>\n",
              "</table>\n",
              "</div>\n",
              "      <button class=\"colab-df-convert\" onclick=\"convertToInteractive('df-66fcd1f8-55af-411e-8e90-5794f4f48dc5')\"\n",
              "              title=\"Convert this dataframe to an interactive table.\"\n",
              "              style=\"display:none;\">\n",
              "        \n",
              "  <svg xmlns=\"http://www.w3.org/2000/svg\" height=\"24px\"viewBox=\"0 0 24 24\"\n",
              "       width=\"24px\">\n",
              "    <path d=\"M0 0h24v24H0V0z\" fill=\"none\"/>\n",
              "    <path d=\"M18.56 5.44l.94 2.06.94-2.06 2.06-.94-2.06-.94-.94-2.06-.94 2.06-2.06.94zm-11 1L8.5 8.5l.94-2.06 2.06-.94-2.06-.94L8.5 2.5l-.94 2.06-2.06.94zm10 10l.94 2.06.94-2.06 2.06-.94-2.06-.94-.94-2.06-.94 2.06-2.06.94z\"/><path d=\"M17.41 7.96l-1.37-1.37c-.4-.4-.92-.59-1.43-.59-.52 0-1.04.2-1.43.59L10.3 9.45l-7.72 7.72c-.78.78-.78 2.05 0 2.83L4 21.41c.39.39.9.59 1.41.59.51 0 1.02-.2 1.41-.59l7.78-7.78 2.81-2.81c.8-.78.8-2.07 0-2.86zM5.41 20L4 18.59l7.72-7.72 1.47 1.35L5.41 20z\"/>\n",
              "  </svg>\n",
              "      </button>\n",
              "      \n",
              "  <style>\n",
              "    .colab-df-container {\n",
              "      display:flex;\n",
              "      flex-wrap:wrap;\n",
              "      gap: 12px;\n",
              "    }\n",
              "\n",
              "    .colab-df-convert {\n",
              "      background-color: #E8F0FE;\n",
              "      border: none;\n",
              "      border-radius: 50%;\n",
              "      cursor: pointer;\n",
              "      display: none;\n",
              "      fill: #1967D2;\n",
              "      height: 32px;\n",
              "      padding: 0 0 0 0;\n",
              "      width: 32px;\n",
              "    }\n",
              "\n",
              "    .colab-df-convert:hover {\n",
              "      background-color: #E2EBFA;\n",
              "      box-shadow: 0px 1px 2px rgba(60, 64, 67, 0.3), 0px 1px 3px 1px rgba(60, 64, 67, 0.15);\n",
              "      fill: #174EA6;\n",
              "    }\n",
              "\n",
              "    [theme=dark] .colab-df-convert {\n",
              "      background-color: #3B4455;\n",
              "      fill: #D2E3FC;\n",
              "    }\n",
              "\n",
              "    [theme=dark] .colab-df-convert:hover {\n",
              "      background-color: #434B5C;\n",
              "      box-shadow: 0px 1px 3px 1px rgba(0, 0, 0, 0.15);\n",
              "      filter: drop-shadow(0px 1px 2px rgba(0, 0, 0, 0.3));\n",
              "      fill: #FFFFFF;\n",
              "    }\n",
              "  </style>\n",
              "\n",
              "      <script>\n",
              "        const buttonEl =\n",
              "          document.querySelector('#df-66fcd1f8-55af-411e-8e90-5794f4f48dc5 button.colab-df-convert');\n",
              "        buttonEl.style.display =\n",
              "          google.colab.kernel.accessAllowed ? 'block' : 'none';\n",
              "\n",
              "        async function convertToInteractive(key) {\n",
              "          const element = document.querySelector('#df-66fcd1f8-55af-411e-8e90-5794f4f48dc5');\n",
              "          const dataTable =\n",
              "            await google.colab.kernel.invokeFunction('convertToInteractive',\n",
              "                                                     [key], {});\n",
              "          if (!dataTable) return;\n",
              "\n",
              "          const docLinkHtml = 'Like what you see? Visit the ' +\n",
              "            '<a target=\"_blank\" href=https://colab.research.google.com/notebooks/data_table.ipynb>data table notebook</a>'\n",
              "            + ' to learn more about interactive tables.';\n",
              "          element.innerHTML = '';\n",
              "          dataTable['output_type'] = 'display_data';\n",
              "          await google.colab.output.renderOutput(dataTable, element);\n",
              "          const docLink = document.createElement('div');\n",
              "          docLink.innerHTML = docLinkHtml;\n",
              "          element.appendChild(docLink);\n",
              "        }\n",
              "      </script>\n",
              "    </div>\n",
              "  </div>\n",
              "  "
            ]
          },
          "metadata": {},
          "execution_count": 21
        }
      ]
    },
    {
      "cell_type": "code",
      "source": [
        "df3_3.plot(marker='o',markersize=5)\n",
        "plt.title(\"음식 숙박 가계지출 변화\" , fontsize=20)\n",
        "plt.xlabel('연도',fontsize = 13)\n",
        "plt.ylabel('소비액',fontsize=13)\n",
        "plt.plot()"
      ],
      "metadata": {
        "colab": {
          "base_uri": "https://localhost:8080/",
          "height": 486
        },
        "id": "lkJL3IhgCoGI",
        "outputId": "8ecc9570-f7c3-4ade-86cd-1f5e626a3686"
      },
      "execution_count": 22,
      "outputs": [
        {
          "output_type": "execute_result",
          "data": {
            "text/plain": [
              "[]"
            ]
          },
          "metadata": {},
          "execution_count": 22
        },
        {
          "output_type": "display_data",
          "data": {
            "text/plain": [
              "<Figure size 720x504 with 1 Axes>"
            ],
            "image/png": "[encoded data removed]"
          },
          "metadata": {
            "needs_background": "light"
          }
        }
      ]
    },
    {
      "cell_type": "markdown",
      "source": [
        "2020년에 급속히 최하점을 찍으며 줄어든 것은 코로나19의 영향으로 보인다. 코로나19가 도래한 년도였고 사회적 거리 두기의 강화로 인해 줄었다가 2021년에 규제가 서서히 풀리면서 늘어난 것을 볼 수 있다.  2022년에 다시 줄은 것은 오미크론과 관련된다 예상된다. "
      ],
      "metadata": {
        "id": "ZiKrnOovKsIy"
      }
    },
    {
      "cell_type": "markdown",
      "source": [
        "#4-2. 식료품(주류 비포함) 소비지출 변화"
      ],
      "metadata": {
        "id": "vh27vSc_F72L"
      }
    },
    {
      "cell_type": "code",
      "source": [
        "df1_5 = df.loc[[0]]\n",
        "df2_5 = df1_5.transpose()\n",
        "df2_5.columns = ['식료품 · 비주류음료']\n",
        "df3_5 = df2_5.loc[['2018년', '2019년', '2020년', '2021년', '2022년']]\n",
        "df3_5"
      ],
      "metadata": {
        "colab": {
          "base_uri": "https://localhost:8080/",
          "height": 206
        },
        "id": "mcStMu02DcbO",
        "outputId": "2e97565a-a6d0-4993-d4fa-297ed780edda"
      },
      "execution_count": 23,
      "outputs": [
        {
          "output_type": "execute_result",
          "data": {
            "text/plain": [
              "      식료품 · 비주류음료\n",
              "2018년      366672\n",
              "2019년      308864\n",
              "2020년      363972\n",
              "2021년      371261\n",
              "2022년      387984"
            ],
            "text/html": [
              "\n",
              "  <div id=\"df-0758c0bd-5f8f-40e6-8639-f4cfa6b28981\">\n",
              "    <div class=\"colab-df-container\">\n",
              "      <div>\n",
              "<style scoped>\n",
              "    .dataframe tbody tr th:only-of-type {\n",
              "        vertical-align: middle;\n",
              "    }\n",
              "\n",
              "    .dataframe tbody tr th {\n",
              "        vertical-align: top;\n",
              "    }\n",
              "\n",
              "    .dataframe thead th {\n",
              "        text-align: right;\n",
              "    }\n",
              "</style>\n",
              "<table border=\"1\" class=\"dataframe\">\n",
              "  <thead>\n",
              "    <tr style=\"text-align: right;\">\n",
              "      <th></th>\n",
              "      <th>식료품 · 비주류음료</th>\n",
              "    </tr>\n",
              "  </thead>\n",
              "  <tbody>\n",
              "    <tr>\n",
              "      <th>2018년</th>\n",
              "      <td>366672</td>\n",
              "    </tr>\n",
              "    <tr>\n",
              "      <th>2019년</th>\n",
              "      <td>308864</td>\n",
              "    </tr>\n",
              "    <tr>\n",
              "      <th>2020년</th>\n",
              "      <td>363972</td>\n",
              "    </tr>\n",
              "    <tr>\n",
              "      <th>2021년</th>\n",
              "      <td>371261</td>\n",
              "    </tr>\n",
              "    <tr>\n",
              "      <th>2022년</th>\n",
              "      <td>387984</td>\n",
              "    </tr>\n",
              "  </tbody>\n",
              "</table>\n",
              "</div>\n",
              "      <button class=\"colab-df-convert\" onclick=\"convertToInteractive('df-0758c0bd-5f8f-40e6-8639-f4cfa6b28981')\"\n",
              "              title=\"Convert this dataframe to an interactive table.\"\n",
              "              style=\"display:none;\">\n",
              "        \n",
              "  <svg xmlns=\"http://www.w3.org/2000/svg\" height=\"24px\"viewBox=\"0 0 24 24\"\n",
              "       width=\"24px\">\n",
              "    <path d=\"M0 0h24v24H0V0z\" fill=\"none\"/>\n",
              "    <path d=\"M18.56 5.44l.94 2.06.94-2.06 2.06-.94-2.06-.94-.94-2.06-.94 2.06-2.06.94zm-11 1L8.5 8.5l.94-2.06 2.06-.94-2.06-.94L8.5 2.5l-.94 2.06-2.06.94zm10 10l.94 2.06.94-2.06 2.06-.94-2.06-.94-.94-2.06-.94 2.06-2.06.94z\"/><path d=\"M17.41 7.96l-1.37-1.37c-.4-.4-.92-.59-1.43-.59-.52 0-1.04.2-1.43.59L10.3 9.45l-7.72 7.72c-.78.78-.78 2.05 0 2.83L4 21.41c.39.39.9.59 1.41.59.51 0 1.02-.2 1.41-.59l7.78-7.78 2.81-2.81c.8-.78.8-2.07 0-2.86zM5.41 20L4 18.59l7.72-7.72 1.47 1.35L5.41 20z\"/>\n",
              "  </svg>\n",
              "      </button>\n",
              "      \n",
              "  <style>\n",
              "    .colab-df-container {\n",
              "      display:flex;\n",
              "      flex-wrap:wrap;\n",
              "      gap: 12px;\n",
              "    }\n",
              "\n",
              "    .colab-df-convert {\n",
              "      background-color: #E8F0FE;\n",
              "      border: none;\n",
              "      border-radius: 50%;\n",
              "      cursor: pointer;\n",
              "      display: none;\n",
              "      fill: #1967D2;\n",
              "      height: 32px;\n",
              "      padding: 0 0 0 0;\n",
              "      width: 32px;\n",
              "    }\n",
              "\n",
              "    .colab-df-convert:hover {\n",
              "      background-color: #E2EBFA;\n",
              "      box-shadow: 0px 1px 2px rgba(60, 64, 67, 0.3), 0px 1px 3px 1px rgba(60, 64, 67, 0.15);\n",
              "      fill: #174EA6;\n",
              "    }\n",
              "\n",
              "    [theme=dark] .colab-df-convert {\n",
              "      background-color: #3B4455;\n",
              "      fill: #D2E3FC;\n",
              "    }\n",
              "\n",
              "    [theme=dark] .colab-df-convert:hover {\n",
              "      background-color: #434B5C;\n",
              "      box-shadow: 0px 1px 3px 1px rgba(0, 0, 0, 0.15);\n",
              "      filter: drop-shadow(0px 1px 2px rgba(0, 0, 0, 0.3));\n",
              "      fill: #FFFFFF;\n",
              "    }\n",
              "  </style>\n",
              "\n",
              "      <script>\n",
              "        const buttonEl =\n",
              "          document.querySelector('#df-0758c0bd-5f8f-40e6-8639-f4cfa6b28981 button.colab-df-convert');\n",
              "        buttonEl.style.display =\n",
              "          google.colab.kernel.accessAllowed ? 'block' : 'none';\n",
              "\n",
              "        async function convertToInteractive(key) {\n",
              "          const element = document.querySelector('#df-0758c0bd-5f8f-40e6-8639-f4cfa6b28981');\n",
              "          const dataTable =\n",
              "            await google.colab.kernel.invokeFunction('convertToInteractive',\n",
              "                                                     [key], {});\n",
              "          if (!dataTable) return;\n",
              "\n",
              "          const docLinkHtml = 'Like what you see? Visit the ' +\n",
              "            '<a target=\"_blank\" href=https://colab.research.google.com/notebooks/data_table.ipynb>data table notebook</a>'\n",
              "            + ' to learn more about interactive tables.';\n",
              "          element.innerHTML = '';\n",
              "          dataTable['output_type'] = 'display_data';\n",
              "          await google.colab.output.renderOutput(dataTable, element);\n",
              "          const docLink = document.createElement('div');\n",
              "          docLink.innerHTML = docLinkHtml;\n",
              "          element.appendChild(docLink);\n",
              "        }\n",
              "      </script>\n",
              "    </div>\n",
              "  </div>\n",
              "  "
            ]
          },
          "metadata": {},
          "execution_count": 23
        }
      ]
    },
    {
      "cell_type": "code",
      "source": [
        "df3_5.plot(marker='o',markersize=5)\n",
        "plt.title(\"식료품(주류 비포함) 가계 지출 변화\" , fontsize=20)\n",
        "plt.xlabel('연도',fontsize = 13)\n",
        "plt.ylabel('소비액',fontsize=13)\n",
        "plt.plot()"
      ],
      "metadata": {
        "colab": {
          "base_uri": "https://localhost:8080/",
          "height": 486
        },
        "id": "oVRWUC4_Dg6k",
        "outputId": "b07f7787-c93e-4246-9e9b-3c2e174cd45f"
      },
      "execution_count": 24,
      "outputs": [
        {
          "output_type": "execute_result",
          "data": {
            "text/plain": [
              "[]"
            ]
          },
          "metadata": {},
          "execution_count": 24
        },
        {
          "output_type": "display_data",
          "data": {
            "text/plain": [
              "<Figure size 720x504 with 1 Axes>"
            ],
            "image/png": "[encoded data removed]"
          },
          "metadata": {
            "needs_background": "light"
          }
        }
      ]
    },
    {
      "cell_type": "markdown",
      "source": [
        "식료품의 종류가 다양한 것과 물가가 상승한 것을 고려했을 때 식료품을 많이 샀다고 단언하기는 어렵다. 다만 세부적으로 보자면, 코로나19로 인해 외식비는 감소했으나 가공식품의 경우 증가하였다.푸드 아이콘에 따르면, 코로나19 이전인 2019년에 비해 육가공, 유지류 채소가공 조미식품 주류 등의 소비가 크게 늘어 가정간편식(HMR) 확대를 유추할 수 있었다 한다. [출처:https://www.foodicon.co.kr/news/articleView.html?idxno=12843]"
      ],
      "metadata": {
        "id": "qWa_hRB4JO8a"
      }
    },
    {
      "cell_type": "markdown",
      "source": [
        "#4-3. 보건 소비지출 변화"
      ],
      "metadata": {
        "id": "QwMsGoYyGDdS"
      }
    },
    {
      "cell_type": "code",
      "source": [
        "df1_4 = df.loc[[5]]\n",
        "df2_4 = df1_4.transpose()\n",
        "df2_4.columns = ['보건']\n",
        "df3_4 = df2_4.loc[['2018년', '2019년', '2020년', '2021년', '2022년']]\n",
        "df3_4"
      ],
      "metadata": {
        "colab": {
          "base_uri": "https://localhost:8080/",
          "height": 206
        },
        "id": "ZUL8GrhDDYtB",
        "outputId": "5eee13a5-ba96-45d5-e5c0-e05b1c771a36"
      },
      "execution_count": 25,
      "outputs": [
        {
          "output_type": "execute_result",
          "data": {
            "text/plain": [
              "           보건\n",
              "2018년  191120\n",
              "2019년  197888\n",
              "2020년  211678\n",
              "2021년  234101\n",
              "2022년  230818"
            ],
            "text/html": [
              "\n",
              "  <div id=\"df-9e9f42c7-8354-4bbc-b387-5afa5a52b154\">\n",
              "    <div class=\"colab-df-container\">\n",
              "      <div>\n",
              "<style scoped>\n",
              "    .dataframe tbody tr th:only-of-type {\n",
              "        vertical-align: middle;\n",
              "    }\n",
              "\n",
              "    .dataframe tbody tr th {\n",
              "        vertical-align: top;\n",
              "    }\n",
              "\n",
              "    .dataframe thead th {\n",
              "        text-align: right;\n",
              "    }\n",
              "</style>\n",
              "<table border=\"1\" class=\"dataframe\">\n",
              "  <thead>\n",
              "    <tr style=\"text-align: right;\">\n",
              "      <th></th>\n",
              "      <th>보건</th>\n",
              "    </tr>\n",
              "  </thead>\n",
              "  <tbody>\n",
              "    <tr>\n",
              "      <th>2018년</th>\n",
              "      <td>191120</td>\n",
              "    </tr>\n",
              "    <tr>\n",
              "      <th>2019년</th>\n",
              "      <td>197888</td>\n",
              "    </tr>\n",
              "    <tr>\n",
              "      <th>2020년</th>\n",
              "      <td>211678</td>\n",
              "    </tr>\n",
              "    <tr>\n",
              "      <th>2021년</th>\n",
              "      <td>234101</td>\n",
              "    </tr>\n",
              "    <tr>\n",
              "      <th>2022년</th>\n",
              "      <td>230818</td>\n",
              "    </tr>\n",
              "  </tbody>\n",
              "</table>\n",
              "</div>\n",
              "      <button class=\"colab-df-convert\" onclick=\"convertToInteractive('df-9e9f42c7-8354-4bbc-b387-5afa5a52b154')\"\n",
              "              title=\"Convert this dataframe to an interactive table.\"\n",
              "              style=\"display:none;\">\n",
              "        \n",
              "  <svg xmlns=\"http://www.w3.org/2000/svg\" height=\"24px\"viewBox=\"0 0 24 24\"\n",
              "       width=\"24px\">\n",
              "    <path d=\"M0 0h24v24H0V0z\" fill=\"none\"/>\n",
              "    <path d=\"M18.56 5.44l.94 2.06.94-2.06 2.06-.94-2.06-.94-.94-2.06-.94 2.06-2.06.94zm-11 1L8.5 8.5l.94-2.06 2.06-.94-2.06-.94L8.5 2.5l-.94 2.06-2.06.94zm10 10l.94 2.06.94-2.06 2.06-.94-2.06-.94-.94-2.06-.94 2.06-2.06.94z\"/><path d=\"M17.41 7.96l-1.37-1.37c-.4-.4-.92-.59-1.43-.59-.52 0-1.04.2-1.43.59L10.3 9.45l-7.72 7.72c-.78.78-.78 2.05 0 2.83L4 21.41c.39.39.9.59 1.41.59.51 0 1.02-.2 1.41-.59l7.78-7.78 2.81-2.81c.8-.78.8-2.07 0-2.86zM5.41 20L4 18.59l7.72-7.72 1.47 1.35L5.41 20z\"/>\n",
              "  </svg>\n",
              "      </button>\n",
              "      \n",
              "  <style>\n",
              "    .colab-df-container {\n",
              "      display:flex;\n",
              "      flex-wrap:wrap;\n",
              "      gap: 12px;\n",
              "    }\n",
              "\n",
              "    .colab-df-convert {\n",
              "      background-color: #E8F0FE;\n",
              "      border: none;\n",
              "      border-radius: 50%;\n",
              "      cursor: pointer;\n",
              "      display: none;\n",
              "      fill: #1967D2;\n",
              "      height: 32px;\n",
              "      padding: 0 0 0 0;\n",
              "      width: 32px;\n",
              "    }\n",
              "\n",
              "    .colab-df-convert:hover {\n",
              "      background-color: #E2EBFA;\n",
              "      box-shadow: 0px 1px 2px rgba(60, 64, 67, 0.3), 0px 1px 3px 1px rgba(60, 64, 67, 0.15);\n",
              "      fill: #174EA6;\n",
              "    }\n",
              "\n",
              "    [theme=dark] .colab-df-convert {\n",
              "      background-color: #3B4455;\n",
              "      fill: #D2E3FC;\n",
              "    }\n",
              "\n",
              "    [theme=dark] .colab-df-convert:hover {\n",
              "      background-color: #434B5C;\n",
              "      box-shadow: 0px 1px 3px 1px rgba(0, 0, 0, 0.15);\n",
              "      filter: drop-shadow(0px 1px 2px rgba(0, 0, 0, 0.3));\n",
              "      fill: #FFFFFF;\n",
              "    }\n",
              "  </style>\n",
              "\n",
              "      <script>\n",
              "        const buttonEl =\n",
              "          document.querySelector('#df-9e9f42c7-8354-4bbc-b387-5afa5a52b154 button.colab-df-convert');\n",
              "        buttonEl.style.display =\n",
              "          google.colab.kernel.accessAllowed ? 'block' : 'none';\n",
              "\n",
              "        async function convertToInteractive(key) {\n",
              "          const element = document.querySelector('#df-9e9f42c7-8354-4bbc-b387-5afa5a52b154');\n",
              "          const dataTable =\n",
              "            await google.colab.kernel.invokeFunction('convertToInteractive',\n",
              "                                                     [key], {});\n",
              "          if (!dataTable) return;\n",
              "\n",
              "          const docLinkHtml = 'Like what you see? Visit the ' +\n",
              "            '<a target=\"_blank\" href=https://colab.research.google.com/notebooks/data_table.ipynb>data table notebook</a>'\n",
              "            + ' to learn more about interactive tables.';\n",
              "          element.innerHTML = '';\n",
              "          dataTable['output_type'] = 'display_data';\n",
              "          await google.colab.output.renderOutput(dataTable, element);\n",
              "          const docLink = document.createElement('div');\n",
              "          docLink.innerHTML = docLinkHtml;\n",
              "          element.appendChild(docLink);\n",
              "        }\n",
              "      </script>\n",
              "    </div>\n",
              "  </div>\n",
              "  "
            ]
          },
          "metadata": {},
          "execution_count": 25
        }
      ]
    },
    {
      "cell_type": "code",
      "source": [
        "df3_4.plot(marker='o',markersize=5)\n",
        "plt.title(\"보건 가계지출 변화\" , fontsize=20)\n",
        "plt.xlabel('연도',fontsize = 13)\n",
        "plt.ylabel('소비액',fontsize=13)\n",
        "plt.plot()"
      ],
      "metadata": {
        "colab": {
          "base_uri": "https://localhost:8080/",
          "height": 486
        },
        "id": "huzhM4xzDayS",
        "outputId": "08cd40ae-e689-4df2-d329-c7fba5e716e9"
      },
      "execution_count": 26,
      "outputs": [
        {
          "output_type": "execute_result",
          "data": {
            "text/plain": [
              "[]"
            ]
          },
          "metadata": {},
          "execution_count": 26
        },
        {
          "output_type": "display_data",
          "data": {
            "text/plain": [
              "<Figure size 720x504 with 1 Axes>"
            ],
            "image/png": "[encoded data removed]"
          },
          "metadata": {
            "needs_background": "light"
          }
        }
      ]
    },
    {
      "cell_type": "markdown",
      "source": [
        "보건 부분에 대한 지출은 지속적으로 큰 상승세를 보였다. 코로나19의 영향으로 보인다. 실제로 2020년의 마스크 대란, 2022년 자가검진키트 품절 등의 사재기 현상을 보였다."
      ],
      "metadata": {
        "id": "NZtnAdNgFdZk"
      }
    },
    {
      "cell_type": "markdown",
      "source": [
        "#4-4. 교통 소비지출 변화"
      ],
      "metadata": {
        "id": "8suB1NZVGz3x"
      }
    },
    {
      "cell_type": "code",
      "source": [
        "df1_6 = df.loc[[6]]\n",
        "df2_6 = df1_6.transpose()\n",
        "df2_6.columns = ['교통']\n",
        "df3_6 = df2_6.loc[['2018년', '2019년', '2020년', '2021년', '2022년']]\n",
        "df3_6"
      ],
      "metadata": {
        "colab": {
          "base_uri": "https://localhost:8080/",
          "height": 206
        },
        "id": "s95ClYS2GKCh",
        "outputId": "a17b0d84-8041-476b-fb53-edc617b24945"
      },
      "execution_count": 29,
      "outputs": [
        {
          "output_type": "execute_result",
          "data": {
            "text/plain": [
              "           교통\n",
              "2018년  348808\n",
              "2019년  265880\n",
              "2020년  297292\n",
              "2021년  295996\n",
              "2022년  278347"
            ],
            "text/html": [
              "\n",
              "  <div id=\"df-a26944cc-8352-46f9-9763-404f23499cb1\">\n",
              "    <div class=\"colab-df-container\">\n",
              "      <div>\n",
              "<style scoped>\n",
              "    .dataframe tbody tr th:only-of-type {\n",
              "        vertical-align: middle;\n",
              "    }\n",
              "\n",
              "    .dataframe tbody tr th {\n",
              "        vertical-align: top;\n",
              "    }\n",
              "\n",
              "    .dataframe thead th {\n",
              "        text-align: right;\n",
              "    }\n",
              "</style>\n",
              "<table border=\"1\" class=\"dataframe\">\n",
              "  <thead>\n",
              "    <tr style=\"text-align: right;\">\n",
              "      <th></th>\n",
              "      <th>교통</th>\n",
              "    </tr>\n",
              "  </thead>\n",
              "  <tbody>\n",
              "    <tr>\n",
              "      <th>2018년</th>\n",
              "      <td>348808</td>\n",
              "    </tr>\n",
              "    <tr>\n",
              "      <th>2019년</th>\n",
              "      <td>265880</td>\n",
              "    </tr>\n",
              "    <tr>\n",
              "      <th>2020년</th>\n",
              "      <td>297292</td>\n",
              "    </tr>\n",
              "    <tr>\n",
              "      <th>2021년</th>\n",
              "      <td>295996</td>\n",
              "    </tr>\n",
              "    <tr>\n",
              "      <th>2022년</th>\n",
              "      <td>278347</td>\n",
              "    </tr>\n",
              "  </tbody>\n",
              "</table>\n",
              "</div>\n",
              "      <button class=\"colab-df-convert\" onclick=\"convertToInteractive('df-a26944cc-8352-46f9-9763-404f23499cb1')\"\n",
              "              title=\"Convert this dataframe to an interactive table.\"\n",
              "              style=\"display:none;\">\n",
              "        \n",
              "  <svg xmlns=\"http://www.w3.org/2000/svg\" height=\"24px\"viewBox=\"0 0 24 24\"\n",
              "       width=\"24px\">\n",
              "    <path d=\"M0 0h24v24H0V0z\" fill=\"none\"/>\n",
              "    <path d=\"M18.56 5.44l.94 2.06.94-2.06 2.06-.94-2.06-.94-.94-2.06-.94 2.06-2.06.94zm-11 1L8.5 8.5l.94-2.06 2.06-.94-2.06-.94L8.5 2.5l-.94 2.06-2.06.94zm10 10l.94 2.06.94-2.06 2.06-.94-2.06-.94-.94-2.06-.94 2.06-2.06.94z\"/><path d=\"M17.41 7.96l-1.37-1.37c-.4-.4-.92-.59-1.43-.59-.52 0-1.04.2-1.43.59L10.3 9.45l-7.72 7.72c-.78.78-.78 2.05 0 2.83L4 21.41c.39.39.9.59 1.41.59.51 0 1.02-.2 1.41-.59l7.78-7.78 2.81-2.81c.8-.78.8-2.07 0-2.86zM5.41 20L4 18.59l7.72-7.72 1.47 1.35L5.41 20z\"/>\n",
              "  </svg>\n",
              "      </button>\n",
              "      \n",
              "  <style>\n",
              "    .colab-df-container {\n",
              "      display:flex;\n",
              "      flex-wrap:wrap;\n",
              "      gap: 12px;\n",
              "    }\n",
              "\n",
              "    .colab-df-convert {\n",
              "      background-color: #E8F0FE;\n",
              "      border: none;\n",
              "      border-radius: 50%;\n",
              "      cursor: pointer;\n",
              "      display: none;\n",
              "      fill: #1967D2;\n",
              "      height: 32px;\n",
              "      padding: 0 0 0 0;\n",
              "      width: 32px;\n",
              "    }\n",
              "\n",
              "    .colab-df-convert:hover {\n",
              "      background-color: #E2EBFA;\n",
              "      box-shadow: 0px 1px 2px rgba(60, 64, 67, 0.3), 0px 1px 3px 1px rgba(60, 64, 67, 0.15);\n",
              "      fill: #174EA6;\n",
              "    }\n",
              "\n",
              "    [theme=dark] .colab-df-convert {\n",
              "      background-color: #3B4455;\n",
              "      fill: #D2E3FC;\n",
              "    }\n",
              "\n",
              "    [theme=dark] .colab-df-convert:hover {\n",
              "      background-color: #434B5C;\n",
              "      box-shadow: 0px 1px 3px 1px rgba(0, 0, 0, 0.15);\n",
              "      filter: drop-shadow(0px 1px 2px rgba(0, 0, 0, 0.3));\n",
              "      fill: #FFFFFF;\n",
              "    }\n",
              "  </style>\n",
              "\n",
              "      <script>\n",
              "        const buttonEl =\n",
              "          document.querySelector('#df-a26944cc-8352-46f9-9763-404f23499cb1 button.colab-df-convert');\n",
              "        buttonEl.style.display =\n",
              "          google.colab.kernel.accessAllowed ? 'block' : 'none';\n",
              "\n",
              "        async function convertToInteractive(key) {\n",
              "          const element = document.querySelector('#df-a26944cc-8352-46f9-9763-404f23499cb1');\n",
              "          const dataTable =\n",
              "            await google.colab.kernel.invokeFunction('convertToInteractive',\n",
              "                                                     [key], {});\n",
              "          if (!dataTable) return;\n",
              "\n",
              "          const docLinkHtml = 'Like what you see? Visit the ' +\n",
              "            '<a target=\"_blank\" href=https://colab.research.google.com/notebooks/data_table.ipynb>data table notebook</a>'\n",
              "            + ' to learn more about interactive tables.';\n",
              "          element.innerHTML = '';\n",
              "          dataTable['output_type'] = 'display_data';\n",
              "          await google.colab.output.renderOutput(dataTable, element);\n",
              "          const docLink = document.createElement('div');\n",
              "          docLink.innerHTML = docLinkHtml;\n",
              "          element.appendChild(docLink);\n",
              "        }\n",
              "      </script>\n",
              "    </div>\n",
              "  </div>\n",
              "  "
            ]
          },
          "metadata": {},
          "execution_count": 29
        }
      ]
    },
    {
      "cell_type": "code",
      "source": [
        "df3_6.plot(marker='o',markersize=5)\n",
        "plt.title(\"교통 가계지출 변화\" , fontsize=20)\n",
        "plt.xlabel('연도',fontsize = 13)\n",
        "plt.ylabel('소비액',fontsize=13)\n",
        "plt.plot()"
      ],
      "metadata": {
        "colab": {
          "base_uri": "https://localhost:8080/",
          "height": 486
        },
        "id": "tg67-CLSHa8B",
        "outputId": "4960be42-69e8-46c7-c1e2-e99cbefe1bda"
      },
      "execution_count": 30,
      "outputs": [
        {
          "output_type": "execute_result",
          "data": {
            "text/plain": [
              "[]"
            ]
          },
          "metadata": {},
          "execution_count": 30
        },
        {
          "output_type": "display_data",
          "data": {
            "text/plain": [
              "<Figure size 720x504 with 1 Axes>"
            ],
            "image/png": "[encoded data removed]"
          },
          "metadata": {
            "needs_background": "light"
          }
        }
      ]
    },
    {
      "cell_type": "markdown",
      "source": [
        "2021년‘교통카드 빅데이터 통합정보시스템’을 통해 분석한 결과 지난해에 비해 버스·지하철 등 대중교통 이용이 27% 감소했고, 코로나19 확산의 주요 시점에 따라 변동이 발생한 것으로 나타났다. 코로나 감염에 대한 우려와 각종 규제로 인해 대중교통 이용자들이 출·퇴근 목적 외에는 불필요한 외출을 줄였기 때문으로 해석된다."
      ],
      "metadata": {
        "id": "boUFjQlhGKuR"
      }
    },
    {
      "cell_type": "markdown",
      "source": [
        "#4-5. 오락문화 소비 지출 변화\n"
      ],
      "metadata": {
        "id": "qL3__Vn8G3Ex"
      }
    },
    {
      "cell_type": "code",
      "source": [
        "df1_7 = df.loc[[8]]\n",
        "df2_7 = df1_7.transpose()\n",
        "df2_7.columns = ['오락 · 문화']\n",
        "df3_7 = df2_7.loc[['2018년', '2019년', '2020년', '2021년', '2022년']]\n",
        "df3_7"
      ],
      "metadata": {
        "colab": {
          "base_uri": "https://localhost:8080/",
          "height": 206
        },
        "id": "D3LQ_rjwGL3n",
        "outputId": "9fe3908c-2eda-478e-ec61-90d4b575a504"
      },
      "execution_count": 31,
      "outputs": [
        {
          "output_type": "execute_result",
          "data": {
            "text/plain": [
              "      오락 · 문화\n",
              "2018년  191772\n",
              "2019년  178765\n",
              "2020년  141346\n",
              "2021년  147101\n",
              "2022년  143824"
            ],
            "text/html": [
              "\n",
              "  <div id=\"df-1a5f2eb8-f0b3-4d80-8bf8-402d5105fa9d\">\n",
              "    <div class=\"colab-df-container\">\n",
              "      <div>\n",
              "<style scoped>\n",
              "    .dataframe tbody tr th:only-of-type {\n",
              "        vertical-align: middle;\n",
              "    }\n",
              "\n",
              "    .dataframe tbody tr th {\n",
              "        vertical-align: top;\n",
              "    }\n",
              "\n",
              "    .dataframe thead th {\n",
              "        text-align: right;\n",
              "    }\n",
              "</style>\n",
              "<table border=\"1\" class=\"dataframe\">\n",
              "  <thead>\n",
              "    <tr style=\"text-align: right;\">\n",
              "      <th></th>\n",
              "      <th>오락 · 문화</th>\n",
              "    </tr>\n",
              "  </thead>\n",
              "  <tbody>\n",
              "    <tr>\n",
              "      <th>2018년</th>\n",
              "      <td>191772</td>\n",
              "    </tr>\n",
              "    <tr>\n",
              "      <th>2019년</th>\n",
              "      <td>178765</td>\n",
              "    </tr>\n",
              "    <tr>\n",
              "      <th>2020년</th>\n",
              "      <td>141346</td>\n",
              "    </tr>\n",
              "    <tr>\n",
              "      <th>2021년</th>\n",
              "      <td>147101</td>\n",
              "    </tr>\n",
              "    <tr>\n",
              "      <th>2022년</th>\n",
              "      <td>143824</td>\n",
              "    </tr>\n",
              "  </tbody>\n",
              "</table>\n",
              "</div>\n",
              "      <button class=\"colab-df-convert\" onclick=\"convertToInteractive('df-1a5f2eb8-f0b3-4d80-8bf8-402d5105fa9d')\"\n",
              "              title=\"Convert this dataframe to an interactive table.\"\n",
              "              style=\"display:none;\">\n",
              "        \n",
              "  <svg xmlns=\"http://www.w3.org/2000/svg\" height=\"24px\"viewBox=\"0 0 24 24\"\n",
              "       width=\"24px\">\n",
              "    <path d=\"M0 0h24v24H0V0z\" fill=\"none\"/>\n",
              "    <path d=\"M18.56 5.44l.94 2.06.94-2.06 2.06-.94-2.06-.94-.94-2.06-.94 2.06-2.06.94zm-11 1L8.5 8.5l.94-2.06 2.06-.94-2.06-.94L8.5 2.5l-.94 2.06-2.06.94zm10 10l.94 2.06.94-2.06 2.06-.94-2.06-.94-.94-2.06-.94 2.06-2.06.94z\"/><path d=\"M17.41 7.96l-1.37-1.37c-.4-.4-.92-.59-1.43-.59-.52 0-1.04.2-1.43.59L10.3 9.45l-7.72 7.72c-.78.78-.78 2.05 0 2.83L4 21.41c.39.39.9.59 1.41.59.51 0 1.02-.2 1.41-.59l7.78-7.78 2.81-2.81c.8-.78.8-2.07 0-2.86zM5.41 20L4 18.59l7.72-7.72 1.47 1.35L5.41 20z\"/>\n",
              "  </svg>\n",
              "      </button>\n",
              "      \n",
              "  <style>\n",
              "    .colab-df-container {\n",
              "      display:flex;\n",
              "      flex-wrap:wrap;\n",
              "      gap: 12px;\n",
              "    }\n",
              "\n",
              "    .colab-df-convert {\n",
              "      background-color: #E8F0FE;\n",
              "      border: none;\n",
              "      border-radius: 50%;\n",
              "      cursor: pointer;\n",
              "      display: none;\n",
              "      fill: #1967D2;\n",
              "      height: 32px;\n",
              "      padding: 0 0 0 0;\n",
              "      width: 32px;\n",
              "    }\n",
              "\n",
              "    .colab-df-convert:hover {\n",
              "      background-color: #E2EBFA;\n",
              "      box-shadow: 0px 1px 2px rgba(60, 64, 67, 0.3), 0px 1px 3px 1px rgba(60, 64, 67, 0.15);\n",
              "      fill: #174EA6;\n",
              "    }\n",
              "\n",
              "    [theme=dark] .colab-df-convert {\n",
              "      background-color: #3B4455;\n",
              "      fill: #D2E3FC;\n",
              "    }\n",
              "\n",
              "    [theme=dark] .colab-df-convert:hover {\n",
              "      background-color: #434B5C;\n",
              "      box-shadow: 0px 1px 3px 1px rgba(0, 0, 0, 0.15);\n",
              "      filter: drop-shadow(0px 1px 2px rgba(0, 0, 0, 0.3));\n",
              "      fill: #FFFFFF;\n",
              "    }\n",
              "  </style>\n",
              "\n",
              "      <script>\n",
              "        const buttonEl =\n",
              "          document.querySelector('#df-1a5f2eb8-f0b3-4d80-8bf8-402d5105fa9d button.colab-df-convert');\n",
              "        buttonEl.style.display =\n",
              "          google.colab.kernel.accessAllowed ? 'block' : 'none';\n",
              "\n",
              "        async function convertToInteractive(key) {\n",
              "          const element = document.querySelector('#df-1a5f2eb8-f0b3-4d80-8bf8-402d5105fa9d');\n",
              "          const dataTable =\n",
              "            await google.colab.kernel.invokeFunction('convertToInteractive',\n",
              "                                                     [key], {});\n",
              "          if (!dataTable) return;\n",
              "\n",
              "          const docLinkHtml = 'Like what you see? Visit the ' +\n",
              "            '<a target=\"_blank\" href=https://colab.research.google.com/notebooks/data_table.ipynb>data table notebook</a>'\n",
              "            + ' to learn more about interactive tables.';\n",
              "          element.innerHTML = '';\n",
              "          dataTable['output_type'] = 'display_data';\n",
              "          await google.colab.output.renderOutput(dataTable, element);\n",
              "          const docLink = document.createElement('div');\n",
              "          docLink.innerHTML = docLinkHtml;\n",
              "          element.appendChild(docLink);\n",
              "        }\n",
              "      </script>\n",
              "    </div>\n",
              "  </div>\n",
              "  "
            ]
          },
          "metadata": {},
          "execution_count": 31
        }
      ]
    },
    {
      "cell_type": "code",
      "source": [
        "df3_7.plot(marker='o',markersize=5)\n",
        "plt.title(\"오락문화 가계지출 변화\" , fontsize=20)\n",
        "plt.xlabel('연도',fontsize = 13)\n",
        "plt.ylabel('소비액',fontsize=13)\n",
        "plt.plot()"
      ],
      "metadata": {
        "colab": {
          "base_uri": "https://localhost:8080/",
          "height": 486
        },
        "id": "h1q5Vu7eH2Rj",
        "outputId": "7e243774-db09-4672-978e-067c4970876a"
      },
      "execution_count": 32,
      "outputs": [
        {
          "output_type": "execute_result",
          "data": {
            "text/plain": [
              "[]"
            ]
          },
          "metadata": {},
          "execution_count": 32
        },
        {
          "output_type": "display_data",
          "data": {
            "text/plain": [
              "<Figure size 720x504 with 1 Axes>"
            ],
            "image/png": "[encoded data removed]"
          },
          "metadata": {
            "needs_background": "light"
          }
        }
      ]
    },
    {
      "cell_type": "markdown",
      "source": [
        "코로나19로 인하여 여가시간은 늘어났지만 여가활동에 제약이 생겨 혼자 하는 여가 활동이 늘어났고, 활동적인 여가가 줄어들었으며(휴식활동과 같은 소극적 여가활동 증가), 이에 따라 여가비용 역시 줄어들었다. 코로나19라는 특수 상황에 적응하며 여가활동이 오프라인에서 온라인으로 이동하는 모습을 보였고, 온라인 혹은 모바일 기반의 활동이 주력 여가활동으로 자리 잡게 되었다. 실제로 코로나19 이후 전국적으로 공연문화시설의 핵심어 검색량이 대폭 감소한 것으로 나타났다. 공연시설의 경우 검색량이 2019년 645만 건에서 2020년 272만 건으로 코로나 이후 58% 감소하였다. 하지만 2020년부터 일명 일상으로 돌아가고 싶다는 소비자들의 목소리와 해당 업계에서의 노력과 함께 정부적 규제가 줄어들면서 해당 부분에 대한 소비가 조금씩 증가하고 있는 추세를 보이고 있다."
      ],
      "metadata": {
        "id": "PwQBfnYVGYUg"
      }
    }
  ]
}